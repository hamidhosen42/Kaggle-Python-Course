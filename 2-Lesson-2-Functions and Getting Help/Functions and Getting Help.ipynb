{
 "cells": [
  {
   "cell_type": "markdown",
   "source": [
    "You've already seen and used functions such as `print` and `abs`. But Python has many more functions, and defining your own functions is a big part of python programming.\n",
    "\n",
    "In this lesson, you will learn more about using and defining functions."
   ],
   "metadata": {
    "papermill": {
     "duration": 0.025388,
     "end_time": "2021-09-13T19:56:55.528842",
     "exception": false,
     "start_time": "2021-09-13T19:56:55.503454",
     "status": "completed"
    },
    "tags": []
   }
  },
  {
   "cell_type": "markdown",
   "source": [
    "# Getting Help\n",
    "\n",
    "You saw the `abs` function in the previous tutorial, but what if you've forgotten what it does?\n",
    "\n",
    "The `help()` function is possibly the most important Python function you can learn. If you can remember how to use `help()`, you hold the key to understanding most other functions.\n",
    "\n",
    "Here is an example:"
   ],
   "metadata": {
    "papermill": {
     "duration": 0.027339,
     "end_time": "2021-09-13T19:56:55.581156",
     "exception": false,
     "start_time": "2021-09-13T19:56:55.553817",
     "status": "completed"
    },
    "tags": []
   }
  },
  {
   "cell_type": "code",
   "execution_count": 1,
   "source": [
    "help(round)"
   ],
   "outputs": [
    {
     "output_type": "stream",
     "name": "stdout",
     "text": [
      "Help on built-in function round in module builtins:\n",
      "\n",
      "round(number, ndigits=None)\n",
      "    Round a number to a given precision in decimal digits.\n",
      "    \n",
      "    The return value is an integer if ndigits is omitted or None.  Otherwise\n",
      "    the return value has the same type as the number.  ndigits may be negative.\n",
      "\n"
     ]
    }
   ],
   "metadata": {
    "execution": {
     "iopub.execute_input": "2021-09-13T19:56:55.628290Z",
     "iopub.status.busy": "2021-09-13T19:56:55.627097Z",
     "iopub.status.idle": "2021-09-13T19:56:55.639076Z",
     "shell.execute_reply": "2021-09-13T19:56:55.639619Z"
    },
    "papermill": {
     "duration": 0.037553,
     "end_time": "2021-09-13T19:56:55.639961",
     "exception": false,
     "start_time": "2021-09-13T19:56:55.602408",
     "status": "completed"
    },
    "tags": []
   }
  },
  {
   "cell_type": "markdown",
   "source": [
    "`help()` displays two things:\r\n",
    "\r\n",
    "1. the header of that function `round(number, ndigits=None)`. In this case, this tells us that `round()` takes an argument we can describe as `number`. Additionally, we can optionally give a separate argument which could be described as `ndigits`.\r\n",
    "2. A brief English description of what the function does. "
   ],
   "metadata": {
    "papermill": {
     "duration": 0.021337,
     "end_time": "2021-09-13T19:56:55.684361",
     "exception": false,
     "start_time": "2021-09-13T19:56:55.663024",
     "status": "completed"
    },
    "tags": []
   }
  },
  {
   "cell_type": "markdown",
   "source": [
    "**Common pitfall:** when you're looking up a function, remember to pass in the name of the function itself, and not the result of calling that function. \n",
    "\n",
    "What happens if we invoke help on a *call* to the function `round()`? Unhide the output of the cell below to see."
   ],
   "metadata": {
    "papermill": {
     "duration": 0.02196,
     "end_time": "2021-09-13T19:56:55.728580",
     "exception": false,
     "start_time": "2021-09-13T19:56:55.706620",
     "status": "completed"
    },
    "tags": []
   }
  },
  {
   "cell_type": "code",
   "execution_count": 2,
   "source": [
    "help(round(-2.01))"
   ],
   "outputs": [
    {
     "output_type": "stream",
     "name": "stdout",
     "text": [
      "Help on int object:\n",
      "\n",
      "class int(object)\n",
      " |  int([x]) -> integer\n",
      " |  int(x, base=10) -> integer\n",
      " |  \n",
      " |  Convert a number or string to an integer, or return 0 if no arguments\n",
      " |  are given.  If x is a number, return x.__int__().  For floating point\n",
      " |  numbers, this truncates towards zero.\n",
      " |  \n",
      " |  If x is not a number or if base is given, then x must be a string,\n",
      " |  bytes, or bytearray instance representing an integer literal in the\n",
      " |  given base.  The literal can be preceded by '+' or '-' and be surrounded\n",
      " |  by whitespace.  The base defaults to 10.  Valid bases are 0 and 2-36.\n",
      " |  Base 0 means to interpret the base from the string as an integer literal.\n",
      " |  >>> int('0b100', base=0)\n",
      " |  4\n",
      " |  \n",
      " |  Built-in subclasses:\n",
      " |      bool\n",
      " |  \n",
      " |  Methods defined here:\n",
      " |  \n",
      " |  __abs__(self, /)\n",
      " |      abs(self)\n",
      " |  \n",
      " |  __add__(self, value, /)\n",
      " |      Return self+value.\n",
      " |  \n",
      " |  __and__(self, value, /)\n",
      " |      Return self&value.\n",
      " |  \n",
      " |  __bool__(self, /)\n",
      " |      self != 0\n",
      " |  \n",
      " |  __ceil__(...)\n",
      " |      Ceiling of an Integral returns itself.\n",
      " |  \n",
      " |  __divmod__(self, value, /)\n",
      " |      Return divmod(self, value).\n",
      " |  \n",
      " |  __eq__(self, value, /)\n",
      " |      Return self==value.\n",
      " |  \n",
      " |  __float__(self, /)\n",
      " |      float(self)\n",
      " |  \n",
      " |  __floor__(...)\n",
      " |      Flooring an Integral returns itself.\n",
      " |  \n",
      " |  __floordiv__(self, value, /)\n",
      " |      Return self//value.\n",
      " |  \n",
      " |  __format__(self, format_spec, /)\n",
      " |      Default object formatter.\n",
      " |  \n",
      " |  __ge__(self, value, /)\n",
      " |      Return self>=value.\n",
      " |  \n",
      " |  __getattribute__(self, name, /)\n",
      " |      Return getattr(self, name).\n",
      " |  \n",
      " |  __getnewargs__(self, /)\n",
      " |  \n",
      " |  __gt__(self, value, /)\n",
      " |      Return self>value.\n",
      " |  \n",
      " |  __hash__(self, /)\n",
      " |      Return hash(self).\n",
      " |  \n",
      " |  __index__(self, /)\n",
      " |      Return self converted to an integer, if self is suitable for use as an index into a list.\n",
      " |  \n",
      " |  __int__(self, /)\n",
      " |      int(self)\n",
      " |  \n",
      " |  __invert__(self, /)\n",
      " |      ~self\n",
      " |  \n",
      " |  __le__(self, value, /)\n",
      " |      Return self<=value.\n",
      " |  \n",
      " |  __lshift__(self, value, /)\n",
      " |      Return self<<value.\n",
      " |  \n",
      " |  __lt__(self, value, /)\n",
      " |      Return self<value.\n",
      " |  \n",
      " |  __mod__(self, value, /)\n",
      " |      Return self%value.\n",
      " |  \n",
      " |  __mul__(self, value, /)\n",
      " |      Return self*value.\n",
      " |  \n",
      " |  __ne__(self, value, /)\n",
      " |      Return self!=value.\n",
      " |  \n",
      " |  __neg__(self, /)\n",
      " |      -self\n",
      " |  \n",
      " |  __or__(self, value, /)\n",
      " |      Return self|value.\n",
      " |  \n",
      " |  __pos__(self, /)\n",
      " |      +self\n",
      " |  \n",
      " |  __pow__(self, value, mod=None, /)\n",
      " |      Return pow(self, value, mod).\n",
      " |  \n",
      " |  __radd__(self, value, /)\n",
      " |      Return value+self.\n",
      " |  \n",
      " |  __rand__(self, value, /)\n",
      " |      Return value&self.\n",
      " |  \n",
      " |  __rdivmod__(self, value, /)\n",
      " |      Return divmod(value, self).\n",
      " |  \n",
      " |  __repr__(self, /)\n",
      " |      Return repr(self).\n",
      " |  \n",
      " |  __rfloordiv__(self, value, /)\n",
      " |      Return value//self.\n",
      " |  \n",
      " |  __rlshift__(self, value, /)\n",
      " |      Return value<<self.\n",
      " |  \n",
      " |  __rmod__(self, value, /)\n",
      " |      Return value%self.\n",
      " |  \n",
      " |  __rmul__(self, value, /)\n",
      " |      Return value*self.\n",
      " |  \n",
      " |  __ror__(self, value, /)\n",
      " |      Return value|self.\n",
      " |  \n",
      " |  __round__(...)\n",
      " |      Rounding an Integral returns itself.\n",
      " |      Rounding with an ndigits argument also returns an integer.\n",
      " |  \n",
      " |  __rpow__(self, value, mod=None, /)\n",
      " |      Return pow(value, self, mod).\n",
      " |  \n",
      " |  __rrshift__(self, value, /)\n",
      " |      Return value>>self.\n",
      " |  \n",
      " |  __rshift__(self, value, /)\n",
      " |      Return self>>value.\n",
      " |  \n",
      " |  __rsub__(self, value, /)\n",
      " |      Return value-self.\n",
      " |  \n",
      " |  __rtruediv__(self, value, /)\n",
      " |      Return value/self.\n",
      " |  \n",
      " |  __rxor__(self, value, /)\n",
      " |      Return value^self.\n",
      " |  \n",
      " |  __sizeof__(self, /)\n",
      " |      Returns size in memory, in bytes.\n",
      " |  \n",
      " |  __sub__(self, value, /)\n",
      " |      Return self-value.\n",
      " |  \n",
      " |  __truediv__(self, value, /)\n",
      " |      Return self/value.\n",
      " |  \n",
      " |  __trunc__(...)\n",
      " |      Truncating an Integral returns itself.\n",
      " |  \n",
      " |  __xor__(self, value, /)\n",
      " |      Return self^value.\n",
      " |  \n",
      " |  as_integer_ratio(self, /)\n",
      " |      Return integer ratio.\n",
      " |      \n",
      " |      Return a pair of integers, whose ratio is exactly equal to the original int\n",
      " |      and with a positive denominator.\n",
      " |      \n",
      " |      >>> (10).as_integer_ratio()\n",
      " |      (10, 1)\n",
      " |      >>> (-10).as_integer_ratio()\n",
      " |      (-10, 1)\n",
      " |      >>> (0).as_integer_ratio()\n",
      " |      (0, 1)\n",
      " |  \n",
      " |  bit_length(self, /)\n",
      " |      Number of bits necessary to represent self in binary.\n",
      " |      \n",
      " |      >>> bin(37)\n",
      " |      '0b100101'\n",
      " |      >>> (37).bit_length()\n",
      " |      6\n",
      " |  \n",
      " |  conjugate(...)\n",
      " |      Returns self, the complex conjugate of any int.\n",
      " |  \n",
      " |  to_bytes(self, /, length, byteorder, *, signed=False)\n",
      " |      Return an array of bytes representing an integer.\n",
      " |      \n",
      " |      length\n",
      " |        Length of bytes object to use.  An OverflowError is raised if the\n",
      " |        integer is not representable with the given number of bytes.\n",
      " |      byteorder\n",
      " |        The byte order used to represent the integer.  If byteorder is 'big',\n",
      " |        the most significant byte is at the beginning of the byte array.  If\n",
      " |        byteorder is 'little', the most significant byte is at the end of the\n",
      " |        byte array.  To request the native byte order of the host system, use\n",
      " |        `sys.byteorder' as the byte order value.\n",
      " |      signed\n",
      " |        Determines whether two's complement is used to represent the integer.\n",
      " |        If signed is False and a negative integer is given, an OverflowError\n",
      " |        is raised.\n",
      " |  \n",
      " |  ----------------------------------------------------------------------\n",
      " |  Class methods defined here:\n",
      " |  \n",
      " |  from_bytes(bytes, byteorder, *, signed=False) from builtins.type\n",
      " |      Return the integer represented by the given array of bytes.\n",
      " |      \n",
      " |      bytes\n",
      " |        Holds the array of bytes to convert.  The argument must either\n",
      " |        support the buffer protocol or be an iterable object producing bytes.\n",
      " |        Bytes and bytearray are examples of built-in objects that support the\n",
      " |        buffer protocol.\n",
      " |      byteorder\n",
      " |        The byte order used to represent the integer.  If byteorder is 'big',\n",
      " |        the most significant byte is at the beginning of the byte array.  If\n",
      " |        byteorder is 'little', the most significant byte is at the end of the\n",
      " |        byte array.  To request the native byte order of the host system, use\n",
      " |        `sys.byteorder' as the byte order value.\n",
      " |      signed\n",
      " |        Indicates whether two's complement is used to represent the integer.\n",
      " |  \n",
      " |  ----------------------------------------------------------------------\n",
      " |  Static methods defined here:\n",
      " |  \n",
      " |  __new__(*args, **kwargs) from builtins.type\n",
      " |      Create and return a new object.  See help(type) for accurate signature.\n",
      " |  \n",
      " |  ----------------------------------------------------------------------\n",
      " |  Data descriptors defined here:\n",
      " |  \n",
      " |  denominator\n",
      " |      the denominator of a rational number in lowest terms\n",
      " |  \n",
      " |  imag\n",
      " |      the imaginary part of a complex number\n",
      " |  \n",
      " |  numerator\n",
      " |      the numerator of a rational number in lowest terms\n",
      " |  \n",
      " |  real\n",
      " |      the real part of a complex number\n",
      "\n"
     ]
    }
   ],
   "metadata": {
    "_kg_hide-output": true,
    "collapsed": true,
    "execution": {
     "iopub.execute_input": "2021-09-13T19:56:55.779367Z",
     "iopub.status.busy": "2021-09-13T19:56:55.778637Z",
     "iopub.status.idle": "2021-09-13T19:56:55.802544Z",
     "shell.execute_reply": "2021-09-13T19:56:55.803167Z"
    },
    "papermill": {
     "duration": 0.05063,
     "end_time": "2021-09-13T19:56:55.803484",
     "exception": false,
     "start_time": "2021-09-13T19:56:55.752854",
     "status": "completed"
    },
    "tags": []
   }
  },
  {
   "cell_type": "markdown",
   "source": [
    "Python evaluates an expression like this from the inside out. First it calculates the value of `round(-2.01)`, then it provides help on the output of that expression.\n",
    "\n",
    "<small>(And it turns out to have a lot to say about integers! After we talk later about objects, methods, and attributes in Python, the help output above will make more sense.)</small>\n",
    "\n",
    "`round` is a very simple function with a short docstring. `help` shines even more when dealing with more complex, configurable functions like `print`. Don't worry if the following output looks inscrutable... for now, just see if you can pick anything new out from this help."
   ],
   "metadata": {
    "papermill": {
     "duration": 0.021973,
     "end_time": "2021-09-13T19:56:55.848648",
     "exception": false,
     "start_time": "2021-09-13T19:56:55.826675",
     "status": "completed"
    },
    "tags": []
   }
  },
  {
   "cell_type": "code",
   "execution_count": 3,
   "source": [
    "help(print)"
   ],
   "outputs": [
    {
     "output_type": "stream",
     "name": "stdout",
     "text": [
      "Help on built-in function print in module builtins:\n",
      "\n",
      "print(...)\n",
      "    print(value, ..., sep=' ', end='\\n', file=sys.stdout, flush=False)\n",
      "    \n",
      "    Prints the values to a stream, or to sys.stdout by default.\n",
      "    Optional keyword arguments:\n",
      "    file:  a file-like object (stream); defaults to the current sys.stdout.\n",
      "    sep:   string inserted between values, default a space.\n",
      "    end:   string appended after the last value, default a newline.\n",
      "    flush: whether to forcibly flush the stream.\n",
      "\n"
     ]
    }
   ],
   "metadata": {
    "collapsed": true,
    "execution": {
     "iopub.execute_input": "2021-09-13T19:56:55.897883Z",
     "iopub.status.busy": "2021-09-13T19:56:55.897210Z",
     "iopub.status.idle": "2021-09-13T19:56:55.901415Z",
     "shell.execute_reply": "2021-09-13T19:56:55.901875Z"
    },
    "papermill": {
     "duration": 0.030937,
     "end_time": "2021-09-13T19:56:55.902071",
     "exception": false,
     "start_time": "2021-09-13T19:56:55.871134",
     "status": "completed"
    },
    "tags": []
   }
  },
  {
   "cell_type": "markdown",
   "source": [
    "If you were looking for it, you might learn that print can take an argument called `sep`, and that this describes what we put between all the other arguments when we print them."
   ],
   "metadata": {
    "papermill": {
     "duration": 0.02266,
     "end_time": "2021-09-13T19:56:55.949435",
     "exception": false,
     "start_time": "2021-09-13T19:56:55.926775",
     "status": "completed"
    },
    "tags": []
   }
  },
  {
   "cell_type": "markdown",
   "source": [
    "## Defining functions\n",
    "\n",
    "Builtin functions are great, but we can only get so far with them before we need to start defining our own functions. Below is a simple example."
   ],
   "metadata": {
    "papermill": {
     "duration": 0.033955,
     "end_time": "2021-09-13T19:56:56.006068",
     "exception": false,
     "start_time": "2021-09-13T19:56:55.972113",
     "status": "completed"
    },
    "tags": []
   }
  },
  {
   "cell_type": "code",
   "execution_count": 4,
   "source": [
    "def least_difference(a, b, c):\r\n",
    "    diff1 = abs(a - b)\r\n",
    "    diff2 = abs(b - c)\r\n",
    "    diff3 = abs(a - c)\r\n",
    "    return min(diff1, diff2, diff3)"
   ],
   "outputs": [],
   "metadata": {
    "collapsed": true,
    "execution": {
     "iopub.execute_input": "2021-09-13T19:56:56.057405Z",
     "iopub.status.busy": "2021-09-13T19:56:56.056735Z",
     "iopub.status.idle": "2021-09-13T19:56:56.061610Z",
     "shell.execute_reply": "2021-09-13T19:56:56.062132Z"
    },
    "papermill": {
     "duration": 0.03105,
     "end_time": "2021-09-13T19:56:56.062364",
     "exception": false,
     "start_time": "2021-09-13T19:56:56.031314",
     "status": "completed"
    },
    "tags": []
   }
  },
  {
   "cell_type": "markdown",
   "source": [
    "This creates a function called `least_difference`, which takes three arguments, `a`, `b`, and `c`.\n",
    "\n",
    "Functions start with a header introduced by the `def` keyword. The indented block of code following the `:` is run when the function is called.\n",
    "\n",
    "`return` is another keyword uniquely associated with functions. When Python encounters a `return` statement, it exits the function immediately, and passes the value on the right hand side to the calling context.\n",
    "\n",
    "Is it clear what `least_difference()` does from the source code? If we're not sure, we can always try it out on a few examples:"
   ],
   "metadata": {
    "papermill": {
     "duration": 0.02479,
     "end_time": "2021-09-13T19:56:56.111476",
     "exception": false,
     "start_time": "2021-09-13T19:56:56.086686",
     "status": "completed"
    },
    "tags": []
   }
  },
  {
   "cell_type": "code",
   "execution_count": 5,
   "source": [
    "print(\r\n",
    "    least_difference(1, 10, 100),\r\n",
    "    least_difference(1, 10, 10),\r\n",
    "    least_difference(5, 6, 7), # Python allows trailing commas in argument lists. How nice is that?\r\n",
    ")"
   ],
   "outputs": [
    {
     "output_type": "stream",
     "name": "stdout",
     "text": [
      "9 0 1\n"
     ]
    }
   ],
   "metadata": {
    "collapsed": true,
    "execution": {
     "iopub.execute_input": "2021-09-13T19:56:56.161470Z",
     "iopub.status.busy": "2021-09-13T19:56:56.160792Z",
     "iopub.status.idle": "2021-09-13T19:56:56.164458Z",
     "shell.execute_reply": "2021-09-13T19:56:56.163804Z"
    },
    "papermill": {
     "duration": 0.030806,
     "end_time": "2021-09-13T19:56:56.164609",
     "exception": false,
     "start_time": "2021-09-13T19:56:56.133803",
     "status": "completed"
    },
    "tags": []
   }
  },
  {
   "cell_type": "markdown",
   "source": [
    "Or maybe the `help()` function can tell us something about it."
   ],
   "metadata": {
    "papermill": {
     "duration": 0.023182,
     "end_time": "2021-09-13T19:56:56.211347",
     "exception": false,
     "start_time": "2021-09-13T19:56:56.188165",
     "status": "completed"
    },
    "tags": []
   }
  },
  {
   "cell_type": "code",
   "execution_count": 6,
   "source": [
    "help(least_difference)"
   ],
   "outputs": [
    {
     "output_type": "stream",
     "name": "stdout",
     "text": [
      "Help on function least_difference in module __main__:\n",
      "\n",
      "least_difference(a, b, c)\n",
      "\n"
     ]
    }
   ],
   "metadata": {
    "collapsed": true,
    "execution": {
     "iopub.execute_input": "2021-09-13T19:56:56.261677Z",
     "iopub.status.busy": "2021-09-13T19:56:56.260993Z",
     "iopub.status.idle": "2021-09-13T19:56:56.266121Z",
     "shell.execute_reply": "2021-09-13T19:56:56.265464Z"
    },
    "papermill": {
     "duration": 0.031956,
     "end_time": "2021-09-13T19:56:56.266301",
     "exception": false,
     "start_time": "2021-09-13T19:56:56.234345",
     "status": "completed"
    },
    "tags": []
   }
  },
  {
   "cell_type": "markdown",
   "source": [
    "Python isn't smart enough to read my code and turn it into a nice English description. However, when I write a function, I can provide a description in what's called the **docstring**.\n",
    "\n",
    "### Docstrings"
   ],
   "metadata": {
    "papermill": {
     "duration": 0.023419,
     "end_time": "2021-09-13T19:56:56.314124",
     "exception": false,
     "start_time": "2021-09-13T19:56:56.290705",
     "status": "completed"
    },
    "tags": []
   }
  },
  {
   "cell_type": "code",
   "execution_count": 7,
   "source": [
    "def least_difference(a, b, c):\r\n",
    "    \"\"\"Return the smallest difference between any two numbers\r\n",
    "    among a, b and c.\r\n",
    "    \r\n",
    "    >>> least_difference(1, 5, -5)\r\n",
    "    4\r\n",
    "    \"\"\"\r\n",
    "    diff1 = abs(a - b)\r\n",
    "    diff2 = abs(b - c)\r\n",
    "    diff3 = abs(a - c)\r\n",
    "    return min(diff1, diff2, diff3)"
   ],
   "outputs": [],
   "metadata": {
    "collapsed": true,
    "execution": {
     "iopub.execute_input": "2021-09-13T19:56:56.368448Z",
     "iopub.status.busy": "2021-09-13T19:56:56.367455Z",
     "iopub.status.idle": "2021-09-13T19:56:56.374369Z",
     "shell.execute_reply": "2021-09-13T19:56:56.373830Z"
    },
    "papermill": {
     "duration": 0.035316,
     "end_time": "2021-09-13T19:56:56.374526",
     "exception": false,
     "start_time": "2021-09-13T19:56:56.339210",
     "status": "completed"
    },
    "tags": []
   }
  },
  {
   "cell_type": "markdown",
   "source": [
    "The docstring is a triple-quoted string (which may span multiple lines) that comes immediately after the header of a function. When we call `help()` on a function, it shows the docstring."
   ],
   "metadata": {
    "papermill": {
     "duration": 0.023422,
     "end_time": "2021-09-13T19:56:56.421778",
     "exception": false,
     "start_time": "2021-09-13T19:56:56.398356",
     "status": "completed"
    },
    "tags": []
   }
  },
  {
   "cell_type": "code",
   "execution_count": 8,
   "source": [
    "help(least_difference)"
   ],
   "outputs": [
    {
     "output_type": "stream",
     "name": "stdout",
     "text": [
      "Help on function least_difference in module __main__:\n",
      "\n",
      "least_difference(a, b, c)\n",
      "    Return the smallest difference between any two numbers\n",
      "    among a, b and c.\n",
      "    \n",
      "    >>> least_difference(1, 5, -5)\n",
      "    4\n",
      "\n"
     ]
    }
   ],
   "metadata": {
    "collapsed": true,
    "execution": {
     "iopub.execute_input": "2021-09-13T19:56:56.476956Z",
     "iopub.status.busy": "2021-09-13T19:56:56.476060Z",
     "iopub.status.idle": "2021-09-13T19:56:56.479624Z",
     "shell.execute_reply": "2021-09-13T19:56:56.480328Z"
    },
    "papermill": {
     "duration": 0.03366,
     "end_time": "2021-09-13T19:56:56.480667",
     "exception": false,
     "start_time": "2021-09-13T19:56:56.447007",
     "status": "completed"
    },
    "tags": []
   }
  },
  {
   "cell_type": "markdown",
   "source": [
    "> **Aside:**\n",
    "> The last two lines of the docstring are an example function call and result. (The `>>>` is a reference to the command prompt used in Python interactive shells.) Python doesn't run the example call - it's just there for the benefit of the reader. The convention of including 1 or more example calls in a function's docstring is far from universally observed, but it can be very effective at helping someone understand your function. For a real-world example, see [this docstring for the numpy function `np.eye`](https://github.com/numpy/numpy/blob/v1.14.2/numpy/lib/twodim_base.py#L140-L194)."
   ],
   "metadata": {
    "papermill": {
     "duration": 0.027314,
     "end_time": "2021-09-13T19:56:56.544978",
     "exception": false,
     "start_time": "2021-09-13T19:56:56.517664",
     "status": "completed"
    },
    "tags": []
   }
  },
  {
   "cell_type": "markdown",
   "source": [
    "Good programmers use docstrings unless they expect to throw away the code soon after it's used (which is rare).  So, you should start writing docstrings, too!"
   ],
   "metadata": {
    "papermill": {
     "duration": 0.028643,
     "end_time": "2021-09-13T19:56:56.597732",
     "exception": false,
     "start_time": "2021-09-13T19:56:56.569089",
     "status": "completed"
    },
    "tags": []
   }
  },
  {
   "cell_type": "markdown",
   "source": [
    "## Functions that don't return\n",
    "\n",
    "What would happen if we didn't include the `return` keyword in our function?"
   ],
   "metadata": {
    "papermill": {
     "duration": 0.024607,
     "end_time": "2021-09-13T19:56:56.647686",
     "exception": false,
     "start_time": "2021-09-13T19:56:56.623079",
     "status": "completed"
    },
    "tags": []
   }
  },
  {
   "cell_type": "code",
   "execution_count": 9,
   "source": [
    "def least_difference(a, b, c):\r\n",
    "    \"\"\"Return the smallest difference between any two numbers\r\n",
    "    among a, b and c.\r\n",
    "    \"\"\"\r\n",
    "    diff1 = abs(a - b)\r\n",
    "    diff2 = abs(b - c)\r\n",
    "    diff3 = abs(a - c)\r\n",
    "    min(diff1, diff2, diff3)\r\n",
    "    \r\n",
    "print(\r\n",
    "    least_difference(1, 10, 100),\r\n",
    "    least_difference(1, 10, 10),\r\n",
    "    least_difference(5, 6, 7),\r\n",
    ")"
   ],
   "outputs": [
    {
     "output_type": "stream",
     "name": "stdout",
     "text": [
      "None None None\n"
     ]
    }
   ],
   "metadata": {
    "collapsed": true,
    "execution": {
     "iopub.execute_input": "2021-09-13T19:56:56.699858Z",
     "iopub.status.busy": "2021-09-13T19:56:56.698966Z",
     "iopub.status.idle": "2021-09-13T19:56:56.706674Z",
     "shell.execute_reply": "2021-09-13T19:56:56.706166Z"
    },
    "papermill": {
     "duration": 0.034463,
     "end_time": "2021-09-13T19:56:56.706820",
     "exception": false,
     "start_time": "2021-09-13T19:56:56.672357",
     "status": "completed"
    },
    "tags": []
   }
  },
  {
   "cell_type": "markdown",
   "source": [
    "Python allows us to define such functions. The result of calling them is the special value `None`. (This is similar to the concept of \"null\" in other languages.)\n",
    "\n",
    "Without a `return` statement, `least_difference` is completely pointless, but a function with side effects may do something useful without returning anything. We've already seen two examples of this: `print()` and `help()` don't return anything. We only call them for their side effects (putting some text on the screen). Other examples of useful side effects include writing to a file, or modifying an input."
   ],
   "metadata": {
    "papermill": {
     "duration": 0.023807,
     "end_time": "2021-09-13T19:56:56.755109",
     "exception": false,
     "start_time": "2021-09-13T19:56:56.731302",
     "status": "completed"
    },
    "tags": []
   }
  },
  {
   "cell_type": "code",
   "execution_count": 10,
   "source": [
    "mystery = print()\r\n",
    "print(mystery)"
   ],
   "outputs": [
    {
     "output_type": "stream",
     "name": "stdout",
     "text": [
      "\n",
      "None\n"
     ]
    }
   ],
   "metadata": {
    "collapsed": true,
    "execution": {
     "iopub.execute_input": "2021-09-13T19:56:56.808742Z",
     "iopub.status.busy": "2021-09-13T19:56:56.808041Z",
     "iopub.status.idle": "2021-09-13T19:56:56.810647Z",
     "shell.execute_reply": "2021-09-13T19:56:56.811231Z"
    },
    "papermill": {
     "duration": 0.032246,
     "end_time": "2021-09-13T19:56:56.811446",
     "exception": false,
     "start_time": "2021-09-13T19:56:56.779200",
     "status": "completed"
    },
    "tags": []
   }
  },
  {
   "cell_type": "markdown",
   "source": [
    "## Default arguments\n",
    "\n",
    "When we called `help(print)`, we saw that the `print` function has several optional arguments. For example, we can specify a value for `sep` to put some special string in between our printed arguments:"
   ],
   "metadata": {
    "papermill": {
     "duration": 0.025583,
     "end_time": "2021-09-13T19:56:56.862800",
     "exception": false,
     "start_time": "2021-09-13T19:56:56.837217",
     "status": "completed"
    },
    "tags": []
   }
  },
  {
   "cell_type": "code",
   "execution_count": 11,
   "source": [
    "print(1, 2, 3, sep=' < ')"
   ],
   "outputs": [
    {
     "output_type": "stream",
     "name": "stdout",
     "text": [
      "1 < 2 < 3\n"
     ]
    }
   ],
   "metadata": {
    "collapsed": true,
    "execution": {
     "iopub.execute_input": "2021-09-13T19:56:56.918660Z",
     "iopub.status.busy": "2021-09-13T19:56:56.917948Z",
     "iopub.status.idle": "2021-09-13T19:56:56.920656Z",
     "shell.execute_reply": "2021-09-13T19:56:56.921153Z"
    },
    "papermill": {
     "duration": 0.033299,
     "end_time": "2021-09-13T19:56:56.921365",
     "exception": false,
     "start_time": "2021-09-13T19:56:56.888066",
     "status": "completed"
    },
    "tags": []
   }
  },
  {
   "cell_type": "markdown",
   "source": [
    "But if we don't specify a value, `sep` is treated as having a default value of `' '` (a single space)."
   ],
   "metadata": {
    "papermill": {
     "duration": 0.025136,
     "end_time": "2021-09-13T19:56:56.972071",
     "exception": false,
     "start_time": "2021-09-13T19:56:56.946935",
     "status": "completed"
    },
    "tags": []
   }
  },
  {
   "cell_type": "code",
   "execution_count": 12,
   "source": [
    "print(1, 2, 3)"
   ],
   "outputs": [
    {
     "output_type": "stream",
     "name": "stdout",
     "text": [
      "1 2 3\n"
     ]
    }
   ],
   "metadata": {
    "collapsed": true,
    "execution": {
     "iopub.execute_input": "2021-09-13T19:56:57.030034Z",
     "iopub.status.busy": "2021-09-13T19:56:57.029396Z",
     "iopub.status.idle": "2021-09-13T19:56:57.033093Z",
     "shell.execute_reply": "2021-09-13T19:56:57.033610Z"
    },
    "papermill": {
     "duration": 0.036194,
     "end_time": "2021-09-13T19:56:57.033803",
     "exception": false,
     "start_time": "2021-09-13T19:56:56.997609",
     "status": "completed"
    },
    "tags": []
   }
  },
  {
   "cell_type": "markdown",
   "source": [
    "Adding optional arguments with default values to the functions we define turns out to be pretty easy:"
   ],
   "metadata": {
    "papermill": {
     "duration": 0.02802,
     "end_time": "2021-09-13T19:56:57.088961",
     "exception": false,
     "start_time": "2021-09-13T19:56:57.060941",
     "status": "completed"
    },
    "tags": []
   }
  },
  {
   "cell_type": "code",
   "execution_count": 13,
   "source": [
    "def greet(who=\"Colin\"):\r\n",
    "    print(\"Hello,\", who)\r\n",
    "    \r\n",
    "greet()\r\n",
    "greet(who=\"Kaggle\")\r\n",
    "greet(\"world\")"
   ],
   "outputs": [
    {
     "output_type": "stream",
     "name": "stdout",
     "text": [
      "Hello, Colin\n",
      "Hello, Kaggle\n",
      "Hello, world\n"
     ]
    }
   ],
   "metadata": {
    "collapsed": true,
    "execution": {
     "iopub.execute_input": "2021-09-13T19:56:57.146651Z",
     "iopub.status.busy": "2021-09-13T19:56:57.144071Z",
     "iopub.status.idle": "2021-09-13T19:56:57.150094Z",
     "shell.execute_reply": "2021-09-13T19:56:57.150608Z"
    },
    "papermill": {
     "duration": 0.035706,
     "end_time": "2021-09-13T19:56:57.150807",
     "exception": false,
     "start_time": "2021-09-13T19:56:57.115101",
     "status": "completed"
    },
    "tags": []
   }
  },
  {
   "cell_type": "markdown",
   "source": [
    "## Functions Applied to Functions\n",
    "\n",
    "Here's something that's powerful, though it can feel very abstract at first.  You can supply functions as arguments to other functions.  Some example may make this clearer:"
   ],
   "metadata": {
    "papermill": {
     "duration": 0.026936,
     "end_time": "2021-09-13T19:56:57.204511",
     "exception": false,
     "start_time": "2021-09-13T19:56:57.177575",
     "status": "completed"
    },
    "tags": []
   }
  },
  {
   "cell_type": "code",
   "execution_count": 14,
   "source": [
    "def mult_by_five(x):\r\n",
    "    return 5 * x\r\n",
    "\r\n",
    "def call(fn, arg):\r\n",
    "    \"\"\"Call fn on arg\"\"\"\r\n",
    "    return fn(arg)\r\n",
    "\r\n",
    "def squared_call(fn, arg):\r\n",
    "    \"\"\"Call fn on the result of calling fn on arg\"\"\"\r\n",
    "    return fn(fn(arg))\r\n",
    "\r\n",
    "print(\r\n",
    "    call(mult_by_five, 1),\r\n",
    "    squared_call(mult_by_five, 1), \r\n",
    "    sep='\\n', # '\\n' is the newline character - it starts a new line\r\n",
    ")"
   ],
   "outputs": [
    {
     "output_type": "stream",
     "name": "stdout",
     "text": [
      "5\n",
      "25\n"
     ]
    }
   ],
   "metadata": {
    "collapsed": true,
    "execution": {
     "iopub.execute_input": "2021-09-13T19:56:57.264979Z",
     "iopub.status.busy": "2021-09-13T19:56:57.264145Z",
     "iopub.status.idle": "2021-09-13T19:56:57.267538Z",
     "shell.execute_reply": "2021-09-13T19:56:57.268027Z"
    },
    "papermill": {
     "duration": 0.036776,
     "end_time": "2021-09-13T19:56:57.268210",
     "exception": false,
     "start_time": "2021-09-13T19:56:57.231434",
     "status": "completed"
    },
    "tags": []
   }
  },
  {
   "cell_type": "markdown",
   "source": [
    "Functions that operate on other functions are called \"higher-order functions.\" You probably won't write your own for a little while. But there are higher-order functions built into Python that you might find useful to call. \n",
    "\n",
    "Here's an interesting example using the `max` function.\n",
    "\n",
    "By default, `max` returns the largest of its arguments. But if we pass in a function using the optional `key` argument, it returns the argument `x` that maximizes `key(x)` (aka the 'argmax')."
   ],
   "metadata": {
    "papermill": {
     "duration": 0.026079,
     "end_time": "2021-09-13T19:56:57.320887",
     "exception": false,
     "start_time": "2021-09-13T19:56:57.294808",
     "status": "completed"
    },
    "tags": []
   }
  },
  {
   "cell_type": "code",
   "execution_count": 15,
   "source": [
    "def mod_5(x):\r\n",
    "    \"\"\"Return the remainder of x after dividing by 5\"\"\"\r\n",
    "    return x % 5\r\n",
    "\r\n",
    "print(\r\n",
    "    'Which number is biggest?',\r\n",
    "    max(100, 51, 14),\r\n",
    "    'Which number is the biggest modulo 5?',\r\n",
    "    max(100, 51, 14, key=mod_5),\r\n",
    "    sep='\\n',\r\n",
    ")"
   ],
   "outputs": [
    {
     "output_type": "stream",
     "name": "stdout",
     "text": [
      "Which number is biggest?\n",
      "100\n",
      "Which number is the biggest modulo 5?\n",
      "14\n"
     ]
    }
   ],
   "metadata": {
    "collapsed": true,
    "execution": {
     "iopub.execute_input": "2021-09-13T19:56:57.379461Z",
     "iopub.status.busy": "2021-09-13T19:56:57.378677Z",
     "iopub.status.idle": "2021-09-13T19:56:57.382583Z",
     "shell.execute_reply": "2021-09-13T19:56:57.383012Z"
    },
    "papermill": {
     "duration": 0.036037,
     "end_time": "2021-09-13T19:56:57.383180",
     "exception": false,
     "start_time": "2021-09-13T19:56:57.347143",
     "status": "completed"
    },
    "tags": []
   }
  }
 ],
 "metadata": {
  "kernelspec": {
   "name": "python3",
   "display_name": "Python 3.8.8 64-bit ('base': conda)"
  },
  "language_info": {
   "codemirror_mode": {
    "name": "ipython",
    "version": 3
   },
   "file_extension": ".py",
   "mimetype": "text/x-python",
   "name": "python",
   "nbconvert_exporter": "python",
   "pygments_lexer": "ipython3",
   "version": "3.8.8"
  },
  "learntools_metadata": {
   "lesson_index": 1,
   "type": "tutorial"
  },
  "papermill": {
   "default_parameters": {},
   "duration": 11.8283,
   "end_time": "2021-09-13T19:56:59.028185",
   "environment_variables": {},
   "exception": null,
   "input_path": "__notebook__.ipynb",
   "output_path": "__notebook__.ipynb",
   "parameters": {},
   "start_time": "2021-09-13T19:56:47.199885",
   "version": "2.3.3"
  },
  "interpreter": {
   "hash": "6d46af94c2bbce495f1e668725902fa517c90b1782bcfe2fce0dd9868df553d3"
  }
 },
 "nbformat": 4,
 "nbformat_minor": 5
}