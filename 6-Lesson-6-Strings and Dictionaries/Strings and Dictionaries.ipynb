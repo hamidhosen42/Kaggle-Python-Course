{
 "cells": [
  {
   "cell_type": "markdown",
   "source": [
    "# Strings"
   ],
   "metadata": {
    "papermill": {
     "duration": 0.028599,
     "end_time": "2021-09-13T19:56:57.465496",
     "exception": false,
     "start_time": "2021-09-13T19:56:57.436897",
     "status": "completed"
    },
    "tags": []
   }
  },
  {
   "cell_type": "markdown",
   "source": [
    "One place where the Python language really shines is in the manipulation of strings.\n",
    "This section will cover some of Python's built-in string methods and formatting operations.\n",
    "\n",
    "Such string manipulation patterns come up often in the context of data science work.\n",
    "\n",
    "## String syntax\n",
    "\n",
    "You've already seen plenty of strings in examples during the previous lessons, but just to recap, strings in Python can be defined using either single or double quotations. They are functionally equivalent."
   ],
   "metadata": {
    "papermill": {
     "duration": 0.028503,
     "end_time": "2021-09-13T19:56:57.522878",
     "exception": false,
     "start_time": "2021-09-13T19:56:57.494375",
     "status": "completed"
    },
    "tags": []
   }
  },
  {
   "cell_type": "code",
   "execution_count": 1,
   "source": [
    "x = 'Pluto is a planet'\r\n",
    "y = \"Pluto is a planet\"\r\n",
    "x == y"
   ],
   "outputs": [
    {
     "output_type": "execute_result",
     "data": {
      "text/plain": [
       "True"
      ]
     },
     "metadata": {},
     "execution_count": 1
    }
   ],
   "metadata": {
    "execution": {
     "iopub.execute_input": "2021-09-13T19:56:57.591953Z",
     "iopub.status.busy": "2021-09-13T19:56:57.591010Z",
     "iopub.status.idle": "2021-09-13T19:56:57.598872Z",
     "shell.execute_reply": "2021-09-13T19:56:57.598173Z"
    },
    "papermill": {
     "duration": 0.047251,
     "end_time": "2021-09-13T19:56:57.599025",
     "exception": false,
     "start_time": "2021-09-13T19:56:57.551774",
     "status": "completed"
    },
    "tags": []
   }
  },
  {
   "cell_type": "markdown",
   "source": [
    "Double quotes are convenient if your string contains a single quote character (e.g. representing an apostrophe).\n",
    "\n",
    "Similarly, it's easy to create a string that contains double-quotes if you wrap it in single quotes:"
   ],
   "metadata": {
    "papermill": {
     "duration": 0.028868,
     "end_time": "2021-09-13T19:56:57.658019",
     "exception": false,
     "start_time": "2021-09-13T19:56:57.629151",
     "status": "completed"
    },
    "tags": []
   }
  },
  {
   "cell_type": "code",
   "execution_count": 2,
   "source": [
    "print(\"Pluto's a planet!\")\r\n",
    "print('My dog is named \"Pluto\"')"
   ],
   "outputs": [
    {
     "output_type": "stream",
     "name": "stdout",
     "text": [
      "Pluto's a planet!\n",
      "My dog is named \"Pluto\"\n"
     ]
    }
   ],
   "metadata": {
    "execution": {
     "iopub.execute_input": "2021-09-13T19:56:57.721170Z",
     "iopub.status.busy": "2021-09-13T19:56:57.720515Z",
     "iopub.status.idle": "2021-09-13T19:56:57.723890Z",
     "shell.execute_reply": "2021-09-13T19:56:57.723320Z"
    },
    "papermill": {
     "duration": 0.036873,
     "end_time": "2021-09-13T19:56:57.724015",
     "exception": false,
     "start_time": "2021-09-13T19:56:57.687142",
     "status": "completed"
    },
    "tags": []
   }
  },
  {
   "cell_type": "markdown",
   "source": [
    "If we try to put a single quote character inside a single-quoted string, Python gets confused:"
   ],
   "metadata": {
    "papermill": {
     "duration": 0.029662,
     "end_time": "2021-09-13T19:56:57.783274",
     "exception": false,
     "start_time": "2021-09-13T19:56:57.753612",
     "status": "completed"
    },
    "tags": []
   }
  },
  {
   "cell_type": "code",
   "execution_count": 3,
   "source": [
    "'Pluto's a planet!'"
   ],
   "outputs": [
    {
     "output_type": "error",
     "ename": "SyntaxError",
     "evalue": "invalid syntax (<ipython-input-3-a43631749f52>, line 1)",
     "traceback": [
      "\u001b[1;36m  File \u001b[1;32m\"<ipython-input-3-a43631749f52>\"\u001b[1;36m, line \u001b[1;32m1\u001b[0m\n\u001b[1;33m    'Pluto's a planet!'\u001b[0m\n\u001b[1;37m           ^\u001b[0m\n\u001b[1;31mSyntaxError\u001b[0m\u001b[1;31m:\u001b[0m invalid syntax\n"
     ]
    }
   ],
   "metadata": {
    "execution": {
     "iopub.execute_input": "2021-09-13T19:56:57.847170Z",
     "iopub.status.busy": "2021-09-13T19:56:57.846567Z",
     "iopub.status.idle": "2021-09-13T19:56:57.849341Z",
     "shell.execute_reply": "2021-09-13T19:56:57.849805Z"
    },
    "papermill": {
     "duration": 0.037019,
     "end_time": "2021-09-13T19:56:57.849969",
     "exception": false,
     "start_time": "2021-09-13T19:56:57.812950",
     "status": "completed"
    },
    "tags": [
     "raises-exception"
    ]
   }
  },
  {
   "cell_type": "markdown",
   "source": [
    "We can fix this by \"escaping\" the single quote with a backslash. "
   ],
   "metadata": {
    "papermill": {
     "duration": 0.029822,
     "end_time": "2021-09-13T19:56:57.909703",
     "exception": false,
     "start_time": "2021-09-13T19:56:57.879881",
     "status": "completed"
    },
    "tags": []
   }
  },
  {
   "cell_type": "code",
   "execution_count": 4,
   "source": [
    "'Pluto\\'s a planet!'"
   ],
   "outputs": [
    {
     "output_type": "execute_result",
     "data": {
      "text/plain": [
       "\"Pluto's a planet!\""
      ]
     },
     "metadata": {},
     "execution_count": 4
    }
   ],
   "metadata": {
    "execution": {
     "iopub.execute_input": "2021-09-13T19:56:57.973696Z",
     "iopub.status.busy": "2021-09-13T19:56:57.973103Z",
     "iopub.status.idle": "2021-09-13T19:56:57.977927Z",
     "shell.execute_reply": "2021-09-13T19:56:57.977495Z"
    },
    "papermill": {
     "duration": 0.038362,
     "end_time": "2021-09-13T19:56:57.978057",
     "exception": false,
     "start_time": "2021-09-13T19:56:57.939695",
     "status": "completed"
    },
    "tags": []
   }
  },
  {
   "cell_type": "markdown",
   "source": [
    "The table below summarizes some important uses of the backslash character.\r\n",
    "\r\n",
    "| What you type... | What you get | example                  | `print(example)`             |\r\n",
    "|--------------|----------------|----------------------------|------------------------------|\r\n",
    "| `\\'`         | `'`            | `'What\\'s up?'`            | `What's up?`                 |  \r\n",
    "| `\\\"`         | `\"`            | `\"That's \\\"cool\\\"\"`        | `That's \"cool\"`              |  \r\n",
    "| `\\\\`         | `\\`            |  `\"Look, a mountain: /\\\\\"` |  `Look, a mountain: /\\`      |\r\n",
    "| `\\n`         |   <br/>        |   `\"1\\n2 3\"`               |   `1`<br/>`2 3`              |"
   ],
   "metadata": {
    "papermill": {
     "duration": 0.029875,
     "end_time": "2021-09-13T19:56:58.038332",
     "exception": false,
     "start_time": "2021-09-13T19:56:58.008457",
     "status": "completed"
    },
    "tags": []
   }
  },
  {
   "cell_type": "markdown",
   "source": [
    "The last sequence, `\\n`, represents the *newline character*. It causes Python to start a new line."
   ],
   "metadata": {
    "papermill": {
     "duration": 0.029999,
     "end_time": "2021-09-13T19:56:58.098653",
     "exception": false,
     "start_time": "2021-09-13T19:56:58.068654",
     "status": "completed"
    },
    "tags": []
   }
  },
  {
   "cell_type": "code",
   "execution_count": 6,
   "source": [
    "hello = \"hello\\nworld\"\r\n",
    "print(hello)"
   ],
   "outputs": [
    {
     "output_type": "stream",
     "name": "stdout",
     "text": [
      "hello\n",
      "world\n"
     ]
    }
   ],
   "metadata": {
    "execution": {
     "iopub.execute_input": "2021-09-13T19:56:58.163586Z",
     "iopub.status.busy": "2021-09-13T19:56:58.162999Z",
     "iopub.status.idle": "2021-09-13T19:56:58.166163Z",
     "shell.execute_reply": "2021-09-13T19:56:58.165706Z"
    },
    "papermill": {
     "duration": 0.037516,
     "end_time": "2021-09-13T19:56:58.166289",
     "exception": false,
     "start_time": "2021-09-13T19:56:58.128773",
     "status": "completed"
    },
    "tags": []
   }
  },
  {
   "cell_type": "markdown",
   "source": [
    "In addition, Python's triple quote syntax for strings lets us include newlines literally (i.e. by just hitting 'Enter' on our keyboard, rather than using the special '\\n' sequence). We've already seen this in the docstrings we use to document our functions, but we can use them anywhere we want to define a string."
   ],
   "metadata": {
    "papermill": {
     "duration": 0.030183,
     "end_time": "2021-09-13T19:56:58.227151",
     "exception": false,
     "start_time": "2021-09-13T19:56:58.196968",
     "status": "completed"
    },
    "tags": []
   }
  },
  {
   "cell_type": "code",
   "execution_count": 7,
   "source": [
    "triplequoted_hello = \"\"\"hello\r\n",
    "world\"\"\"\r\n",
    "print(triplequoted_hello)\r\n",
    "triplequoted_hello == hello"
   ],
   "outputs": [
    {
     "output_type": "stream",
     "name": "stdout",
     "text": [
      "hello\n",
      "world\n"
     ]
    },
    {
     "output_type": "execute_result",
     "data": {
      "text/plain": [
       "True"
      ]
     },
     "metadata": {},
     "execution_count": 7
    }
   ],
   "metadata": {
    "execution": {
     "iopub.execute_input": "2021-09-13T19:56:58.291373Z",
     "iopub.status.busy": "2021-09-13T19:56:58.290819Z",
     "iopub.status.idle": "2021-09-13T19:56:58.296051Z",
     "shell.execute_reply": "2021-09-13T19:56:58.296570Z"
    },
    "papermill": {
     "duration": 0.038953,
     "end_time": "2021-09-13T19:56:58.296733",
     "exception": false,
     "start_time": "2021-09-13T19:56:58.257780",
     "status": "completed"
    },
    "tags": []
   }
  },
  {
   "cell_type": "markdown",
   "source": [
    "The `print()` function automatically adds a newline character unless we specify a value for the keyword argument `end` other than the default value of `'\\n'`:"
   ],
   "metadata": {
    "papermill": {
     "duration": 0.031825,
     "end_time": "2021-09-13T19:56:58.359932",
     "exception": false,
     "start_time": "2021-09-13T19:56:58.328107",
     "status": "completed"
    },
    "tags": []
   }
  },
  {
   "cell_type": "code",
   "execution_count": 8,
   "source": [
    "print(\"hello\")\r\n",
    "print(\"world\")\r\n",
    "print(\"hello\", end='')\r\n",
    "print(\"pluto\", end='')"
   ],
   "outputs": [
    {
     "output_type": "stream",
     "name": "stdout",
     "text": [
      "hello\n",
      "world\n",
      "hellopluto"
     ]
    }
   ],
   "metadata": {
    "execution": {
     "iopub.execute_input": "2021-09-13T19:56:58.425515Z",
     "iopub.status.busy": "2021-09-13T19:56:58.424945Z",
     "iopub.status.idle": "2021-09-13T19:56:58.429413Z",
     "shell.execute_reply": "2021-09-13T19:56:58.429872Z"
    },
    "papermill": {
     "duration": 0.038892,
     "end_time": "2021-09-13T19:56:58.430033",
     "exception": false,
     "start_time": "2021-09-13T19:56:58.391141",
     "status": "completed"
    },
    "tags": []
   }
  },
  {
   "cell_type": "markdown",
   "source": [
    "## Strings are sequences\n",
    "\n",
    "Strings can be thought of as sequences of characters. Almost everything we've seen that we can do to a list, we can also do to a string."
   ],
   "metadata": {
    "papermill": {
     "duration": 0.031044,
     "end_time": "2021-09-13T19:56:58.492565",
     "exception": false,
     "start_time": "2021-09-13T19:56:58.461521",
     "status": "completed"
    },
    "tags": []
   }
  },
  {
   "cell_type": "code",
   "execution_count": 9,
   "source": [
    "# Indexing\r\n",
    "planet = 'Pluto'\r\n",
    "planet[0]"
   ],
   "outputs": [
    {
     "output_type": "execute_result",
     "data": {
      "text/plain": [
       "'P'"
      ]
     },
     "metadata": {},
     "execution_count": 9
    }
   ],
   "metadata": {
    "execution": {
     "iopub.execute_input": "2021-09-13T19:56:58.559295Z",
     "iopub.status.busy": "2021-09-13T19:56:58.558722Z",
     "iopub.status.idle": "2021-09-13T19:56:58.562605Z",
     "shell.execute_reply": "2021-09-13T19:56:58.563106Z"
    },
    "papermill": {
     "duration": 0.038916,
     "end_time": "2021-09-13T19:56:58.563258",
     "exception": false,
     "start_time": "2021-09-13T19:56:58.524342",
     "status": "completed"
    },
    "tags": []
   }
  },
  {
   "cell_type": "code",
   "execution_count": 10,
   "source": [
    "# Slicing\r\n",
    "planet[-3:]"
   ],
   "outputs": [
    {
     "output_type": "execute_result",
     "data": {
      "text/plain": [
       "'uto'"
      ]
     },
     "metadata": {},
     "execution_count": 10
    }
   ],
   "metadata": {
    "execution": {
     "iopub.execute_input": "2021-09-13T19:56:58.631446Z",
     "iopub.status.busy": "2021-09-13T19:56:58.630480Z",
     "iopub.status.idle": "2021-09-13T19:56:58.635015Z",
     "shell.execute_reply": "2021-09-13T19:56:58.635555Z"
    },
    "papermill": {
     "duration": 0.04005,
     "end_time": "2021-09-13T19:56:58.635721",
     "exception": false,
     "start_time": "2021-09-13T19:56:58.595671",
     "status": "completed"
    },
    "tags": []
   }
  },
  {
   "cell_type": "code",
   "execution_count": 11,
   "source": [
    "# How long is this string?\r\n",
    "len(planet)"
   ],
   "outputs": [
    {
     "output_type": "execute_result",
     "data": {
      "text/plain": [
       "5"
      ]
     },
     "metadata": {},
     "execution_count": 11
    }
   ],
   "metadata": {
    "execution": {
     "iopub.execute_input": "2021-09-13T19:56:58.704065Z",
     "iopub.status.busy": "2021-09-13T19:56:58.703174Z",
     "iopub.status.idle": "2021-09-13T19:56:58.707882Z",
     "shell.execute_reply": "2021-09-13T19:56:58.708300Z"
    },
    "papermill": {
     "duration": 0.040169,
     "end_time": "2021-09-13T19:56:58.708470",
     "exception": false,
     "start_time": "2021-09-13T19:56:58.668301",
     "status": "completed"
    },
    "tags": []
   }
  },
  {
   "cell_type": "code",
   "execution_count": 12,
   "source": [
    "# Yes, we can even loop over them\r\n",
    "[char+'! ' for char in planet]"
   ],
   "outputs": [
    {
     "output_type": "execute_result",
     "data": {
      "text/plain": [
       "['P! ', 'l! ', 'u! ', 't! ', 'o! ']"
      ]
     },
     "metadata": {},
     "execution_count": 12
    }
   ],
   "metadata": {
    "execution": {
     "iopub.execute_input": "2021-09-13T19:56:58.779368Z",
     "iopub.status.busy": "2021-09-13T19:56:58.776931Z",
     "iopub.status.idle": "2021-09-13T19:56:58.782770Z",
     "shell.execute_reply": "2021-09-13T19:56:58.782312Z"
    },
    "papermill": {
     "duration": 0.04125,
     "end_time": "2021-09-13T19:56:58.782902",
     "exception": false,
     "start_time": "2021-09-13T19:56:58.741652",
     "status": "completed"
    },
    "tags": []
   }
  },
  {
   "cell_type": "markdown",
   "source": [
    "But a major way in which they differ from lists is that they are *immutable*. We can't modify them."
   ],
   "metadata": {
    "papermill": {
     "duration": 0.032413,
     "end_time": "2021-09-13T19:56:58.849641",
     "exception": false,
     "start_time": "2021-09-13T19:56:58.817228",
     "status": "completed"
    },
    "tags": []
   }
  },
  {
   "cell_type": "code",
   "execution_count": 13,
   "source": [
    "planet[0] = 'B'\r\n",
    "# planet.append doesn't work either"
   ],
   "outputs": [
    {
     "output_type": "error",
     "ename": "TypeError",
     "evalue": "'str' object does not support item assignment",
     "traceback": [
      "\u001b[1;31m---------------------------------------------------------------------------\u001b[0m",
      "\u001b[1;31mTypeError\u001b[0m                                 Traceback (most recent call last)",
      "\u001b[1;32m<ipython-input-13-6ca42463b9f9>\u001b[0m in \u001b[0;36m<module>\u001b[1;34m\u001b[0m\n\u001b[1;32m----> 1\u001b[1;33m \u001b[0mplanet\u001b[0m\u001b[1;33m[\u001b[0m\u001b[1;36m0\u001b[0m\u001b[1;33m]\u001b[0m \u001b[1;33m=\u001b[0m \u001b[1;34m'B'\u001b[0m\u001b[1;33m\u001b[0m\u001b[1;33m\u001b[0m\u001b[0m\n\u001b[0m\u001b[0;32m      2\u001b[0m \u001b[1;31m# planet.append doesn't work either\u001b[0m\u001b[1;33m\u001b[0m\u001b[1;33m\u001b[0m\u001b[1;33m\u001b[0m\u001b[0m\n",
      "\u001b[1;31mTypeError\u001b[0m: 'str' object does not support item assignment"
     ]
    }
   ],
   "metadata": {
    "execution": {
     "iopub.execute_input": "2021-09-13T19:56:58.920111Z",
     "iopub.status.busy": "2021-09-13T19:56:58.919532Z",
     "iopub.status.idle": "2021-09-13T19:56:58.971555Z",
     "shell.execute_reply": "2021-09-13T19:56:58.971065Z"
    },
    "papermill": {
     "duration": 0.089083,
     "end_time": "2021-09-13T19:56:58.971696",
     "exception": false,
     "start_time": "2021-09-13T19:56:58.882613",
     "status": "completed"
    },
    "tags": [
     "raises-exception"
    ]
   }
  },
  {
   "cell_type": "markdown",
   "source": [
    "## String methods\n",
    "\n",
    "Like `list`, the type `str` has lots of very useful methods. I'll show just a few examples here."
   ],
   "metadata": {
    "papermill": {
     "duration": 0.033187,
     "end_time": "2021-09-13T19:56:59.039125",
     "exception": false,
     "start_time": "2021-09-13T19:56:59.005938",
     "status": "completed"
    },
    "tags": []
   }
  },
  {
   "cell_type": "code",
   "execution_count": null,
   "source": [
    "# ALL CAPS\r\n",
    "claim = \"Pluto is a planet!\"\r\n",
    "claim.upper()"
   ],
   "outputs": [
    {
     "output_type": "execute_result",
     "data": {
      "text/plain": [
       "'PLUTO IS A PLANET!'"
      ]
     },
     "metadata": {},
     "execution_count": 13
    }
   ],
   "metadata": {
    "execution": {
     "iopub.execute_input": "2021-09-13T19:56:59.111039Z",
     "iopub.status.busy": "2021-09-13T19:56:59.110295Z",
     "iopub.status.idle": "2021-09-13T19:56:59.113789Z",
     "shell.execute_reply": "2021-09-13T19:56:59.113189Z"
    },
    "papermill": {
     "duration": 0.041392,
     "end_time": "2021-09-13T19:56:59.113921",
     "exception": false,
     "start_time": "2021-09-13T19:56:59.072529",
     "status": "completed"
    },
    "tags": []
   }
  },
  {
   "cell_type": "code",
   "execution_count": 14,
   "source": [
    "# all lowercase\r\n",
    "claim.lower()"
   ],
   "outputs": [
    {
     "output_type": "error",
     "ename": "NameError",
     "evalue": "name 'claim' is not defined",
     "traceback": [
      "\u001b[1;31m---------------------------------------------------------------------------\u001b[0m",
      "\u001b[1;31mNameError\u001b[0m                                 Traceback (most recent call last)",
      "\u001b[1;32m<ipython-input-14-eac44427b7db>\u001b[0m in \u001b[0;36m<module>\u001b[1;34m\u001b[0m\n\u001b[0;32m      1\u001b[0m \u001b[1;31m# all lowercase\u001b[0m\u001b[1;33m\u001b[0m\u001b[1;33m\u001b[0m\u001b[1;33m\u001b[0m\u001b[0m\n\u001b[1;32m----> 2\u001b[1;33m \u001b[0mclaim\u001b[0m\u001b[1;33m.\u001b[0m\u001b[0mlower\u001b[0m\u001b[1;33m(\u001b[0m\u001b[1;33m)\u001b[0m\u001b[1;33m\u001b[0m\u001b[1;33m\u001b[0m\u001b[0m\n\u001b[0m",
      "\u001b[1;31mNameError\u001b[0m: name 'claim' is not defined"
     ]
    }
   ],
   "metadata": {
    "execution": {
     "iopub.execute_input": "2021-09-13T19:56:59.186186Z",
     "iopub.status.busy": "2021-09-13T19:56:59.185554Z",
     "iopub.status.idle": "2021-09-13T19:56:59.187855Z",
     "shell.execute_reply": "2021-09-13T19:56:59.188264Z"
    },
    "papermill": {
     "duration": 0.040969,
     "end_time": "2021-09-13T19:56:59.188430",
     "exception": false,
     "start_time": "2021-09-13T19:56:59.147461",
     "status": "completed"
    },
    "tags": []
   }
  },
  {
   "cell_type": "code",
   "execution_count": 15,
   "source": [
    "# Searching for the first index of a substring\r\n",
    "claim.index('plan')"
   ],
   "outputs": [
    {
     "output_type": "error",
     "ename": "NameError",
     "evalue": "name 'claim' is not defined",
     "traceback": [
      "\u001b[1;31m---------------------------------------------------------------------------\u001b[0m",
      "\u001b[1;31mNameError\u001b[0m                                 Traceback (most recent call last)",
      "\u001b[1;32m<ipython-input-15-58a4ffea2997>\u001b[0m in \u001b[0;36m<module>\u001b[1;34m\u001b[0m\n\u001b[0;32m      1\u001b[0m \u001b[1;31m# Searching for the first index of a substring\u001b[0m\u001b[1;33m\u001b[0m\u001b[1;33m\u001b[0m\u001b[1;33m\u001b[0m\u001b[0m\n\u001b[1;32m----> 2\u001b[1;33m \u001b[0mclaim\u001b[0m\u001b[1;33m.\u001b[0m\u001b[0mindex\u001b[0m\u001b[1;33m(\u001b[0m\u001b[1;34m'plan'\u001b[0m\u001b[1;33m)\u001b[0m\u001b[1;33m\u001b[0m\u001b[1;33m\u001b[0m\u001b[0m\n\u001b[0m",
      "\u001b[1;31mNameError\u001b[0m: name 'claim' is not defined"
     ]
    }
   ],
   "metadata": {
    "execution": {
     "iopub.execute_input": "2021-09-13T19:56:59.260144Z",
     "iopub.status.busy": "2021-09-13T19:56:59.259542Z",
     "iopub.status.idle": "2021-09-13T19:56:59.263907Z",
     "shell.execute_reply": "2021-09-13T19:56:59.264337Z"
    },
    "papermill": {
     "duration": 0.042075,
     "end_time": "2021-09-13T19:56:59.264520",
     "exception": false,
     "start_time": "2021-09-13T19:56:59.222445",
     "status": "completed"
    },
    "tags": []
   }
  },
  {
   "cell_type": "code",
   "execution_count": 16,
   "source": [
    "claim.startswith(planet)"
   ],
   "outputs": [
    {
     "output_type": "error",
     "ename": "NameError",
     "evalue": "name 'claim' is not defined",
     "traceback": [
      "\u001b[1;31m---------------------------------------------------------------------------\u001b[0m",
      "\u001b[1;31mNameError\u001b[0m                                 Traceback (most recent call last)",
      "\u001b[1;32m<ipython-input-16-bd0db3116584>\u001b[0m in \u001b[0;36m<module>\u001b[1;34m\u001b[0m\n\u001b[1;32m----> 1\u001b[1;33m \u001b[0mclaim\u001b[0m\u001b[1;33m.\u001b[0m\u001b[0mstartswith\u001b[0m\u001b[1;33m(\u001b[0m\u001b[0mplanet\u001b[0m\u001b[1;33m)\u001b[0m\u001b[1;33m\u001b[0m\u001b[1;33m\u001b[0m\u001b[0m\n\u001b[0m",
      "\u001b[1;31mNameError\u001b[0m: name 'claim' is not defined"
     ]
    }
   ],
   "metadata": {
    "execution": {
     "iopub.execute_input": "2021-09-13T19:56:59.337604Z",
     "iopub.status.busy": "2021-09-13T19:56:59.336693Z",
     "iopub.status.idle": "2021-09-13T19:56:59.341766Z",
     "shell.execute_reply": "2021-09-13T19:56:59.342196Z"
    },
    "papermill": {
     "duration": 0.042936,
     "end_time": "2021-09-13T19:56:59.342370",
     "exception": false,
     "start_time": "2021-09-13T19:56:59.299434",
     "status": "completed"
    },
    "tags": []
   }
  },
  {
   "cell_type": "code",
   "execution_count": null,
   "source": [
    "claim.endswith('dwarf planet')"
   ],
   "outputs": [
    {
     "output_type": "execute_result",
     "data": {
      "text/plain": [
       "False"
      ]
     },
     "metadata": {},
     "execution_count": 17
    }
   ],
   "metadata": {
    "execution": {
     "iopub.execute_input": "2021-09-13T19:56:59.416365Z",
     "iopub.status.busy": "2021-09-13T19:56:59.414189Z",
     "iopub.status.idle": "2021-09-13T19:56:59.419231Z",
     "shell.execute_reply": "2021-09-13T19:56:59.419636Z"
    },
    "papermill": {
     "duration": 0.042855,
     "end_time": "2021-09-13T19:56:59.419809",
     "exception": false,
     "start_time": "2021-09-13T19:56:59.376954",
     "status": "completed"
    },
    "tags": []
   }
  },
  {
   "cell_type": "markdown",
   "source": [
    "### Going between strings and lists: `.split()` and `.join()`\n",
    "\n",
    "`str.split()` turns a string into a list of smaller strings, breaking on whitespace by default. This is super useful for taking you from one big string to a list of words."
   ],
   "metadata": {
    "papermill": {
     "duration": 0.034697,
     "end_time": "2021-09-13T19:56:59.489483",
     "exception": false,
     "start_time": "2021-09-13T19:56:59.454786",
     "status": "completed"
    },
    "tags": []
   }
  },
  {
   "cell_type": "code",
   "execution_count": 17,
   "source": [
    "words = claim.split()\r\n",
    "words"
   ],
   "outputs": [
    {
     "output_type": "error",
     "ename": "NameError",
     "evalue": "name 'claim' is not defined",
     "traceback": [
      "\u001b[1;31m---------------------------------------------------------------------------\u001b[0m",
      "\u001b[1;31mNameError\u001b[0m                                 Traceback (most recent call last)",
      "\u001b[1;32m<ipython-input-17-220d23009460>\u001b[0m in \u001b[0;36m<module>\u001b[1;34m\u001b[0m\n\u001b[1;32m----> 1\u001b[1;33m \u001b[0mwords\u001b[0m \u001b[1;33m=\u001b[0m \u001b[0mclaim\u001b[0m\u001b[1;33m.\u001b[0m\u001b[0msplit\u001b[0m\u001b[1;33m(\u001b[0m\u001b[1;33m)\u001b[0m\u001b[1;33m\u001b[0m\u001b[1;33m\u001b[0m\u001b[0m\n\u001b[0m\u001b[0;32m      2\u001b[0m \u001b[0mwords\u001b[0m\u001b[1;33m\u001b[0m\u001b[1;33m\u001b[0m\u001b[0m\n",
      "\u001b[1;31mNameError\u001b[0m: name 'claim' is not defined"
     ]
    }
   ],
   "metadata": {
    "execution": {
     "iopub.execute_input": "2021-09-13T19:56:59.562237Z",
     "iopub.status.busy": "2021-09-13T19:56:59.561685Z",
     "iopub.status.idle": "2021-09-13T19:56:59.565533Z",
     "shell.execute_reply": "2021-09-13T19:56:59.565968Z"
    },
    "papermill": {
     "duration": 0.041845,
     "end_time": "2021-09-13T19:56:59.566122",
     "exception": false,
     "start_time": "2021-09-13T19:56:59.524277",
     "status": "completed"
    },
    "tags": []
   }
  },
  {
   "cell_type": "markdown",
   "source": [
    "Occasionally you'll want to split on something other than whitespace:"
   ],
   "metadata": {
    "papermill": {
     "duration": 0.043546,
     "end_time": "2021-09-13T19:56:59.648278",
     "exception": false,
     "start_time": "2021-09-13T19:56:59.604732",
     "status": "completed"
    },
    "tags": []
   }
  },
  {
   "cell_type": "code",
   "execution_count": 18,
   "source": [
    "datestr = '1956-01-31'\r\n",
    "year, month, day = datestr.split('-')"
   ],
   "outputs": [],
   "metadata": {
    "collapsed": true,
    "execution": {
     "iopub.execute_input": "2021-09-13T19:56:59.724636Z",
     "iopub.status.busy": "2021-09-13T19:56:59.724073Z",
     "iopub.status.idle": "2021-09-13T19:56:59.726822Z",
     "shell.execute_reply": "2021-09-13T19:56:59.727238Z"
    },
    "papermill": {
     "duration": 0.041132,
     "end_time": "2021-09-13T19:56:59.727406",
     "exception": false,
     "start_time": "2021-09-13T19:56:59.686274",
     "status": "completed"
    },
    "tags": []
   }
  },
  {
   "cell_type": "markdown",
   "source": [
    "`str.join()` takes us in the other direction, sewing a list of strings up into one long string, using the string it was called on as a separator."
   ],
   "metadata": {
    "papermill": {
     "duration": 0.035008,
     "end_time": "2021-09-13T19:56:59.797908",
     "exception": false,
     "start_time": "2021-09-13T19:56:59.762900",
     "status": "completed"
    },
    "tags": []
   }
  },
  {
   "cell_type": "code",
   "execution_count": 19,
   "source": [
    "'/'.join([month, day, year])"
   ],
   "outputs": [
    {
     "output_type": "execute_result",
     "data": {
      "text/plain": [
       "'01/31/1956'"
      ]
     },
     "metadata": {},
     "execution_count": 19
    }
   ],
   "metadata": {
    "execution": {
     "iopub.execute_input": "2021-09-13T19:56:59.873206Z",
     "iopub.status.busy": "2021-09-13T19:56:59.871446Z",
     "iopub.status.idle": "2021-09-13T19:56:59.876168Z",
     "shell.execute_reply": "2021-09-13T19:56:59.876638Z"
    },
    "papermill": {
     "duration": 0.043808,
     "end_time": "2021-09-13T19:56:59.876799",
     "exception": false,
     "start_time": "2021-09-13T19:56:59.832991",
     "status": "completed"
    },
    "tags": []
   }
  },
  {
   "cell_type": "code",
   "execution_count": 20,
   "source": [
    "# Yes, we can put unicode characters right in our string literals :)\r\n",
    "' 👏 '.join([word.upper() for word in words])"
   ],
   "outputs": [
    {
     "output_type": "error",
     "ename": "NameError",
     "evalue": "name 'words' is not defined",
     "traceback": [
      "\u001b[1;31m---------------------------------------------------------------------------\u001b[0m",
      "\u001b[1;31mNameError\u001b[0m                                 Traceback (most recent call last)",
      "\u001b[1;32m<ipython-input-20-40380ff4a5bd>\u001b[0m in \u001b[0;36m<module>\u001b[1;34m\u001b[0m\n\u001b[0;32m      1\u001b[0m \u001b[1;31m# Yes, we can put unicode characters right in our string literals :)\u001b[0m\u001b[1;33m\u001b[0m\u001b[1;33m\u001b[0m\u001b[1;33m\u001b[0m\u001b[0m\n\u001b[1;32m----> 2\u001b[1;33m \u001b[1;34m' 👏 '\u001b[0m\u001b[1;33m.\u001b[0m\u001b[0mjoin\u001b[0m\u001b[1;33m(\u001b[0m\u001b[1;33m[\u001b[0m\u001b[0mword\u001b[0m\u001b[1;33m.\u001b[0m\u001b[0mupper\u001b[0m\u001b[1;33m(\u001b[0m\u001b[1;33m)\u001b[0m \u001b[1;32mfor\u001b[0m \u001b[0mword\u001b[0m \u001b[1;32min\u001b[0m \u001b[0mwords\u001b[0m\u001b[1;33m]\u001b[0m\u001b[1;33m)\u001b[0m\u001b[1;33m\u001b[0m\u001b[1;33m\u001b[0m\u001b[0m\n\u001b[0m",
      "\u001b[1;31mNameError\u001b[0m: name 'words' is not defined"
     ]
    }
   ],
   "metadata": {
    "execution": {
     "iopub.execute_input": "2021-09-13T19:56:59.954734Z",
     "iopub.status.busy": "2021-09-13T19:56:59.954004Z",
     "iopub.status.idle": "2021-09-13T19:56:59.957647Z",
     "shell.execute_reply": "2021-09-13T19:56:59.957152Z"
    },
    "papermill": {
     "duration": 0.044977,
     "end_time": "2021-09-13T19:56:59.957782",
     "exception": false,
     "start_time": "2021-09-13T19:56:59.912805",
     "status": "completed"
    },
    "tags": []
   }
  },
  {
   "cell_type": "markdown",
   "source": [
    "### Building strings with `.format()`\n",
    "\n",
    "Python lets us concatenate strings with the `+` operator."
   ],
   "metadata": {
    "papermill": {
     "duration": 0.046464,
     "end_time": "2021-09-13T19:57:00.040808",
     "exception": false,
     "start_time": "2021-09-13T19:56:59.994344",
     "status": "completed"
    },
    "tags": []
   }
  },
  {
   "cell_type": "code",
   "execution_count": 21,
   "source": [
    "planet + ', we miss you.'"
   ],
   "outputs": [
    {
     "output_type": "execute_result",
     "data": {
      "text/plain": [
       "'Pluto, we miss you.'"
      ]
     },
     "metadata": {},
     "execution_count": 21
    }
   ],
   "metadata": {
    "execution": {
     "iopub.execute_input": "2021-09-13T19:57:00.124215Z",
     "iopub.status.busy": "2021-09-13T19:57:00.123305Z",
     "iopub.status.idle": "2021-09-13T19:57:00.127299Z",
     "shell.execute_reply": "2021-09-13T19:57:00.126719Z"
    },
    "papermill": {
     "duration": 0.048676,
     "end_time": "2021-09-13T19:57:00.127449",
     "exception": false,
     "start_time": "2021-09-13T19:57:00.078773",
     "status": "completed"
    },
    "tags": []
   }
  },
  {
   "cell_type": "markdown",
   "source": [
    "If we want to throw in any non-string objects, we have to be careful to call `str()` on them first"
   ],
   "metadata": {
    "papermill": {
     "duration": 0.036285,
     "end_time": "2021-09-13T19:57:00.200907",
     "exception": false,
     "start_time": "2021-09-13T19:57:00.164622",
     "status": "completed"
    },
    "tags": []
   }
  },
  {
   "cell_type": "code",
   "execution_count": 22,
   "source": [
    "position = 9\r\n",
    "planet + \", you'll always be the \" + position + \"th planet to me.\""
   ],
   "outputs": [
    {
     "output_type": "error",
     "ename": "TypeError",
     "evalue": "can only concatenate str (not \"int\") to str",
     "traceback": [
      "\u001b[1;31m---------------------------------------------------------------------------\u001b[0m",
      "\u001b[1;31mTypeError\u001b[0m                                 Traceback (most recent call last)",
      "\u001b[1;32m<ipython-input-22-73295f9638cc>\u001b[0m in \u001b[0;36m<module>\u001b[1;34m\u001b[0m\n\u001b[0;32m      1\u001b[0m \u001b[0mposition\u001b[0m \u001b[1;33m=\u001b[0m \u001b[1;36m9\u001b[0m\u001b[1;33m\u001b[0m\u001b[1;33m\u001b[0m\u001b[0m\n\u001b[1;32m----> 2\u001b[1;33m \u001b[0mplanet\u001b[0m \u001b[1;33m+\u001b[0m \u001b[1;34m\", you'll always be the \"\u001b[0m \u001b[1;33m+\u001b[0m \u001b[0mposition\u001b[0m \u001b[1;33m+\u001b[0m \u001b[1;34m\"th planet to me.\"\u001b[0m\u001b[1;33m\u001b[0m\u001b[1;33m\u001b[0m\u001b[0m\n\u001b[0m",
      "\u001b[1;31mTypeError\u001b[0m: can only concatenate str (not \"int\") to str"
     ]
    }
   ],
   "metadata": {
    "execution": {
     "iopub.execute_input": "2021-09-13T19:57:00.276743Z",
     "iopub.status.busy": "2021-09-13T19:57:00.276152Z",
     "iopub.status.idle": "2021-09-13T19:57:00.287780Z",
     "shell.execute_reply": "2021-09-13T19:57:00.287310Z"
    },
    "papermill": {
     "duration": 0.050593,
     "end_time": "2021-09-13T19:57:00.287917",
     "exception": false,
     "start_time": "2021-09-13T19:57:00.237324",
     "status": "completed"
    },
    "tags": [
     "raises-exception"
    ]
   }
  },
  {
   "cell_type": "code",
   "execution_count": 23,
   "source": [
    "planet + \", you'll always be the \" + str(position) + \"th planet to me.\""
   ],
   "outputs": [
    {
     "output_type": "execute_result",
     "data": {
      "text/plain": [
       "\"Pluto, you'll always be the 9th planet to me.\""
      ]
     },
     "metadata": {},
     "execution_count": 23
    }
   ],
   "metadata": {
    "execution": {
     "iopub.execute_input": "2021-09-13T19:57:00.368665Z",
     "iopub.status.busy": "2021-09-13T19:57:00.367918Z",
     "iopub.status.idle": "2021-09-13T19:57:00.370827Z",
     "shell.execute_reply": "2021-09-13T19:57:00.371241Z"
    },
    "papermill": {
     "duration": 0.046169,
     "end_time": "2021-09-13T19:57:00.371415",
     "exception": false,
     "start_time": "2021-09-13T19:57:00.325246",
     "status": "completed"
    },
    "tags": []
   }
  },
  {
   "cell_type": "markdown",
   "source": [
    "This is getting hard to read and annoying to type. `str.format()` to the rescue."
   ],
   "metadata": {
    "papermill": {
     "duration": 0.036977,
     "end_time": "2021-09-13T19:57:00.445430",
     "exception": false,
     "start_time": "2021-09-13T19:57:00.408453",
     "status": "completed"
    },
    "tags": []
   }
  },
  {
   "cell_type": "code",
   "execution_count": 24,
   "source": [
    "\"{}, you'll always be the {}th planet to me.\".format(planet, position)"
   ],
   "outputs": [
    {
     "output_type": "execute_result",
     "data": {
      "text/plain": [
       "\"Pluto, you'll always be the 9th planet to me.\""
      ]
     },
     "metadata": {},
     "execution_count": 24
    }
   ],
   "metadata": {
    "execution": {
     "iopub.execute_input": "2021-09-13T19:57:00.528857Z",
     "iopub.status.busy": "2021-09-13T19:57:00.526290Z",
     "iopub.status.idle": "2021-09-13T19:57:00.533113Z",
     "shell.execute_reply": "2021-09-13T19:57:00.533943Z"
    },
    "papermill": {
     "duration": 0.051798,
     "end_time": "2021-09-13T19:57:00.534251",
     "exception": false,
     "start_time": "2021-09-13T19:57:00.482453",
     "status": "completed"
    },
    "tags": []
   }
  },
  {
   "cell_type": "markdown",
   "source": [
    "So much cleaner! We call `.format()` on a \"format string\", where the Python values we want to insert are represented with `{}` placeholders.\n",
    "\n",
    "Notice how we didn't even have to call `str()` to convert `position` from an int. `format()` takes care of that for us.\n",
    "\n",
    "If that was all that `format()` did, it would still be incredibly useful. But as it turns out, it can do a *lot* more. Here's just a taste:"
   ],
   "metadata": {
    "papermill": {
     "duration": 0.041519,
     "end_time": "2021-09-13T19:57:00.619705",
     "exception": false,
     "start_time": "2021-09-13T19:57:00.578186",
     "status": "completed"
    },
    "tags": []
   }
  },
  {
   "cell_type": "code",
   "execution_count": 25,
   "source": [
    "pluto_mass = 1.303 * 10**22\r\n",
    "earth_mass = 5.9722 * 10**24\r\n",
    "population = 52910390\r\n",
    "#         2 decimal points   3 decimal points, format as percent     separate with commas\r\n",
    "\"{} weighs about {:.2} kilograms ({:.3%} of Earth's mass). It is home to {:,} Plutonians.\".format(\r\n",
    "    planet, pluto_mass, pluto_mass / earth_mass, population,\r\n",
    ")"
   ],
   "outputs": [
    {
     "output_type": "execute_result",
     "data": {
      "text/plain": [
       "\"Pluto weighs about 1.3e+22 kilograms (0.218% of Earth's mass). It is home to 52,910,390 Plutonians.\""
      ]
     },
     "metadata": {},
     "execution_count": 25
    }
   ],
   "metadata": {
    "execution": {
     "iopub.execute_input": "2021-09-13T19:57:00.701049Z",
     "iopub.status.busy": "2021-09-13T19:57:00.698064Z",
     "iopub.status.idle": "2021-09-13T19:57:00.703543Z",
     "shell.execute_reply": "2021-09-13T19:57:00.704011Z"
    },
    "papermill": {
     "duration": 0.046636,
     "end_time": "2021-09-13T19:57:00.704165",
     "exception": false,
     "start_time": "2021-09-13T19:57:00.657529",
     "status": "completed"
    },
    "tags": []
   }
  },
  {
   "cell_type": "code",
   "execution_count": 26,
   "source": [
    "# Referring to format() arguments by index, starting from 0\r\n",
    "s = \"\"\"Pluto's a {0}.\r\n",
    "No, it's a {1}.\r\n",
    "{0}!\r\n",
    "{1}!\"\"\".format('planet', 'dwarf planet')\r\n",
    "print(s)"
   ],
   "outputs": [
    {
     "output_type": "stream",
     "name": "stdout",
     "text": [
      "Pluto's a planet.\n",
      "No, it's a dwarf planet.\n",
      "planet!\n",
      "dwarf planet!\n"
     ]
    }
   ],
   "metadata": {
    "execution": {
     "iopub.execute_input": "2021-09-13T19:57:00.785303Z",
     "iopub.status.busy": "2021-09-13T19:57:00.784545Z",
     "iopub.status.idle": "2021-09-13T19:57:00.787408Z",
     "shell.execute_reply": "2021-09-13T19:57:00.787834Z"
    },
    "papermill": {
     "duration": 0.045932,
     "end_time": "2021-09-13T19:57:00.787986",
     "exception": false,
     "start_time": "2021-09-13T19:57:00.742054",
     "status": "completed"
    },
    "tags": []
   }
  },
  {
   "cell_type": "markdown",
   "source": [
    "You could probably write a short book just on `str.format`, so I'll stop here, and point you to [pyformat.info](https://pyformat.info/) and [the official docs](https://docs.python.org/3/library/string.html#formatstrings) for further reading."
   ],
   "metadata": {
    "papermill": {
     "duration": 0.038349,
     "end_time": "2021-09-13T19:57:00.864299",
     "exception": false,
     "start_time": "2021-09-13T19:57:00.825950",
     "status": "completed"
    },
    "tags": []
   }
  },
  {
   "cell_type": "markdown",
   "source": [
    "# Dictionaries\n",
    "\n",
    "Dictionaries are a built-in Python data structure for mapping keys to values."
   ],
   "metadata": {
    "papermill": {
     "duration": 0.037853,
     "end_time": "2021-09-13T19:57:00.940310",
     "exception": false,
     "start_time": "2021-09-13T19:57:00.902457",
     "status": "completed"
    },
    "tags": []
   }
  },
  {
   "cell_type": "code",
   "execution_count": 27,
   "source": [
    "numbers = {'one':1, 'two':2, 'three':3}"
   ],
   "outputs": [],
   "metadata": {
    "collapsed": true,
    "execution": {
     "iopub.execute_input": "2021-09-13T19:57:01.020722Z",
     "iopub.status.busy": "2021-09-13T19:57:01.020088Z",
     "iopub.status.idle": "2021-09-13T19:57:01.023818Z",
     "shell.execute_reply": "2021-09-13T19:57:01.024290Z"
    },
    "papermill": {
     "duration": 0.045628,
     "end_time": "2021-09-13T19:57:01.024468",
     "exception": false,
     "start_time": "2021-09-13T19:57:00.978840",
     "status": "completed"
    },
    "tags": []
   }
  },
  {
   "cell_type": "markdown",
   "source": [
    "In this case `'one'`, `'two'`, and `'three'` are the **keys**, and 1, 2 and 3 are their corresponding values.\n",
    "\n",
    "Values are accessed via square bracket syntax similar to indexing into lists and strings."
   ],
   "metadata": {
    "papermill": {
     "duration": 0.038568,
     "end_time": "2021-09-13T19:57:01.101698",
     "exception": false,
     "start_time": "2021-09-13T19:57:01.063130",
     "status": "completed"
    },
    "tags": []
   }
  },
  {
   "cell_type": "code",
   "execution_count": 28,
   "source": [
    "numbers['one']"
   ],
   "outputs": [
    {
     "output_type": "execute_result",
     "data": {
      "text/plain": [
       "1"
      ]
     },
     "metadata": {},
     "execution_count": 28
    }
   ],
   "metadata": {
    "execution": {
     "iopub.execute_input": "2021-09-13T19:57:01.183293Z",
     "iopub.status.busy": "2021-09-13T19:57:01.182380Z",
     "iopub.status.idle": "2021-09-13T19:57:01.187107Z",
     "shell.execute_reply": "2021-09-13T19:57:01.187505Z"
    },
    "papermill": {
     "duration": 0.047466,
     "end_time": "2021-09-13T19:57:01.187674",
     "exception": false,
     "start_time": "2021-09-13T19:57:01.140208",
     "status": "completed"
    },
    "tags": []
   }
  },
  {
   "cell_type": "markdown",
   "source": [
    "We can use the same syntax to add another key, value pair"
   ],
   "metadata": {
    "papermill": {
     "duration": 0.039195,
     "end_time": "2021-09-13T19:57:01.265697",
     "exception": false,
     "start_time": "2021-09-13T19:57:01.226502",
     "status": "completed"
    },
    "tags": []
   }
  },
  {
   "cell_type": "code",
   "execution_count": 29,
   "source": [
    "numbers['eleven'] = 11\r\n",
    "numbers"
   ],
   "outputs": [
    {
     "output_type": "execute_result",
     "data": {
      "text/plain": [
       "{'one': 1, 'two': 2, 'three': 3, 'eleven': 11}"
      ]
     },
     "metadata": {},
     "execution_count": 29
    }
   ],
   "metadata": {
    "execution": {
     "iopub.execute_input": "2021-09-13T19:57:01.347078Z",
     "iopub.status.busy": "2021-09-13T19:57:01.346156Z",
     "iopub.status.idle": "2021-09-13T19:57:01.350909Z",
     "shell.execute_reply": "2021-09-13T19:57:01.351418Z"
    },
    "papermill": {
     "duration": 0.046987,
     "end_time": "2021-09-13T19:57:01.351639",
     "exception": false,
     "start_time": "2021-09-13T19:57:01.304652",
     "status": "completed"
    },
    "tags": []
   }
  },
  {
   "cell_type": "markdown",
   "source": [
    "Or to change the value associated with an existing key"
   ],
   "metadata": {
    "papermill": {
     "duration": 0.039175,
     "end_time": "2021-09-13T19:57:01.430462",
     "exception": false,
     "start_time": "2021-09-13T19:57:01.391287",
     "status": "completed"
    },
    "tags": []
   }
  },
  {
   "cell_type": "code",
   "execution_count": 30,
   "source": [
    "numbers['one'] = 'Pluto'\r\n",
    "numbers"
   ],
   "outputs": [
    {
     "output_type": "execute_result",
     "data": {
      "text/plain": [
       "{'one': 'Pluto', 'two': 2, 'three': 3, 'eleven': 11}"
      ]
     },
     "metadata": {},
     "execution_count": 30
    }
   ],
   "metadata": {
    "execution": {
     "iopub.execute_input": "2021-09-13T19:57:01.512512Z",
     "iopub.status.busy": "2021-09-13T19:57:01.511613Z",
     "iopub.status.idle": "2021-09-13T19:57:01.516571Z",
     "shell.execute_reply": "2021-09-13T19:57:01.516973Z"
    },
    "papermill": {
     "duration": 0.047585,
     "end_time": "2021-09-13T19:57:01.517136",
     "exception": false,
     "start_time": "2021-09-13T19:57:01.469551",
     "status": "completed"
    },
    "tags": []
   }
  },
  {
   "cell_type": "markdown",
   "source": [
    "Python has *dictionary comprehensions* with a syntax similar to the list comprehensions we saw in the previous tutorial."
   ],
   "metadata": {
    "papermill": {
     "duration": 0.040806,
     "end_time": "2021-09-13T19:57:01.597550",
     "exception": false,
     "start_time": "2021-09-13T19:57:01.556744",
     "status": "completed"
    },
    "tags": []
   }
  },
  {
   "cell_type": "code",
   "execution_count": 31,
   "source": [
    "planets = ['Mercury', 'Venus', 'Earth', 'Mars', 'Jupiter', 'Saturn', 'Uranus', 'Neptune']\r\n",
    "planet_to_initial = {planet: planet[0] for planet in planets}\r\n",
    "planet_to_initial"
   ],
   "outputs": [
    {
     "output_type": "execute_result",
     "data": {
      "text/plain": [
       "{'Mercury': 'M',\n",
       " 'Venus': 'V',\n",
       " 'Earth': 'E',\n",
       " 'Mars': 'M',\n",
       " 'Jupiter': 'J',\n",
       " 'Saturn': 'S',\n",
       " 'Uranus': 'U',\n",
       " 'Neptune': 'N'}"
      ]
     },
     "metadata": {},
     "execution_count": 31
    }
   ],
   "metadata": {
    "execution": {
     "iopub.execute_input": "2021-09-13T19:57:01.707109Z",
     "iopub.status.busy": "2021-09-13T19:57:01.706182Z",
     "iopub.status.idle": "2021-09-13T19:57:01.711865Z",
     "shell.execute_reply": "2021-09-13T19:57:01.712298Z"
    },
    "papermill": {
     "duration": 0.064511,
     "end_time": "2021-09-13T19:57:01.712504",
     "exception": false,
     "start_time": "2021-09-13T19:57:01.647993",
     "status": "completed"
    },
    "tags": []
   }
  },
  {
   "cell_type": "markdown",
   "source": [
    "The `in` operator tells us whether something is a key in the dictionary"
   ],
   "metadata": {
    "papermill": {
     "duration": 0.039701,
     "end_time": "2021-09-13T19:57:01.791926",
     "exception": false,
     "start_time": "2021-09-13T19:57:01.752225",
     "status": "completed"
    },
    "tags": []
   }
  },
  {
   "cell_type": "code",
   "execution_count": 32,
   "source": [
    "'Saturn' in planet_to_initial"
   ],
   "outputs": [
    {
     "output_type": "execute_result",
     "data": {
      "text/plain": [
       "True"
      ]
     },
     "metadata": {},
     "execution_count": 32
    }
   ],
   "metadata": {
    "execution": {
     "iopub.execute_input": "2021-09-13T19:57:01.875188Z",
     "iopub.status.busy": "2021-09-13T19:57:01.874307Z",
     "iopub.status.idle": "2021-09-13T19:57:01.878891Z",
     "shell.execute_reply": "2021-09-13T19:57:01.879272Z"
    },
    "papermill": {
     "duration": 0.047581,
     "end_time": "2021-09-13T19:57:01.879469",
     "exception": false,
     "start_time": "2021-09-13T19:57:01.831888",
     "status": "completed"
    },
    "tags": []
   }
  },
  {
   "cell_type": "code",
   "execution_count": 33,
   "source": [
    "'Betelgeuse' in planet_to_initial"
   ],
   "outputs": [
    {
     "output_type": "execute_result",
     "data": {
      "text/plain": [
       "False"
      ]
     },
     "metadata": {},
     "execution_count": 33
    }
   ],
   "metadata": {
    "execution": {
     "iopub.execute_input": "2021-09-13T19:57:01.963781Z",
     "iopub.status.busy": "2021-09-13T19:57:01.962835Z",
     "iopub.status.idle": "2021-09-13T19:57:01.967623Z",
     "shell.execute_reply": "2021-09-13T19:57:01.968014Z"
    },
    "papermill": {
     "duration": 0.048434,
     "end_time": "2021-09-13T19:57:01.968186",
     "exception": false,
     "start_time": "2021-09-13T19:57:01.919752",
     "status": "completed"
    },
    "tags": []
   }
  },
  {
   "cell_type": "markdown",
   "source": [
    "A for loop over a dictionary will loop over its keys"
   ],
   "metadata": {
    "papermill": {
     "duration": 0.040612,
     "end_time": "2021-09-13T19:57:02.049491",
     "exception": false,
     "start_time": "2021-09-13T19:57:02.008879",
     "status": "completed"
    },
    "tags": []
   }
  },
  {
   "cell_type": "code",
   "execution_count": 34,
   "source": [
    "for k in numbers:\r\n",
    "    print(\"{} = {}\".format(k, numbers[k]))"
   ],
   "outputs": [
    {
     "output_type": "stream",
     "name": "stdout",
     "text": [
      "one = Pluto\n",
      "two = 2\n",
      "three = 3\n",
      "eleven = 11\n"
     ]
    }
   ],
   "metadata": {
    "execution": {
     "iopub.execute_input": "2021-09-13T19:57:02.135333Z",
     "iopub.status.busy": "2021-09-13T19:57:02.134425Z",
     "iopub.status.idle": "2021-09-13T19:57:02.139654Z",
     "shell.execute_reply": "2021-09-13T19:57:02.139162Z"
    },
    "papermill": {
     "duration": 0.048373,
     "end_time": "2021-09-13T19:57:02.139786",
     "exception": false,
     "start_time": "2021-09-13T19:57:02.091413",
     "status": "completed"
    },
    "tags": []
   }
  },
  {
   "cell_type": "markdown",
   "source": [
    "We can access a collection of all the keys or all the values with `dict.keys()` and `dict.values()`, respectively."
   ],
   "metadata": {
    "papermill": {
     "duration": 0.041233,
     "end_time": "2021-09-13T19:57:02.221934",
     "exception": false,
     "start_time": "2021-09-13T19:57:02.180701",
     "status": "completed"
    },
    "tags": []
   }
  },
  {
   "cell_type": "code",
   "execution_count": 35,
   "source": [
    "# Get all the initials, sort them alphabetically, and put them in a space-separated string.\r\n",
    "' '.join(sorted(planet_to_initial.values()))"
   ],
   "outputs": [
    {
     "output_type": "execute_result",
     "data": {
      "text/plain": [
       "'E J M M N S U V'"
      ]
     },
     "metadata": {},
     "execution_count": 35
    }
   ],
   "metadata": {
    "execution": {
     "iopub.execute_input": "2021-09-13T19:57:02.308456Z",
     "iopub.status.busy": "2021-09-13T19:57:02.307879Z",
     "iopub.status.idle": "2021-09-13T19:57:02.310393Z",
     "shell.execute_reply": "2021-09-13T19:57:02.310898Z"
    },
    "papermill": {
     "duration": 0.048124,
     "end_time": "2021-09-13T19:57:02.311056",
     "exception": false,
     "start_time": "2021-09-13T19:57:02.262932",
     "status": "completed"
    },
    "tags": []
   }
  },
  {
   "cell_type": "markdown",
   "source": [
    "The very useful `dict.items()` method lets us iterate over the keys and values of a dictionary simultaneously. (In Python jargon, an **item** refers to a key, value pair)"
   ],
   "metadata": {
    "papermill": {
     "duration": 0.041394,
     "end_time": "2021-09-13T19:57:02.394036",
     "exception": false,
     "start_time": "2021-09-13T19:57:02.352642",
     "status": "completed"
    },
    "tags": []
   }
  },
  {
   "cell_type": "code",
   "execution_count": 36,
   "source": [
    "for planet, initial in planet_to_initial.items():\r\n",
    "    print(\"{} begins with \\\"{}\\\"\".format(planet.rjust(10), initial))"
   ],
   "outputs": [
    {
     "output_type": "stream",
     "name": "stdout",
     "text": [
      "   Mercury begins with \"M\"\n",
      "     Venus begins with \"V\"\n",
      "     Earth begins with \"E\"\n",
      "      Mars begins with \"M\"\n",
      "   Jupiter begins with \"J\"\n",
      "    Saturn begins with \"S\"\n",
      "    Uranus begins with \"U\"\n",
      "   Neptune begins with \"N\"\n"
     ]
    }
   ],
   "metadata": {
    "execution": {
     "iopub.execute_input": "2021-09-13T19:57:02.480305Z",
     "iopub.status.busy": "2021-09-13T19:57:02.479733Z",
     "iopub.status.idle": "2021-09-13T19:57:02.485295Z",
     "shell.execute_reply": "2021-09-13T19:57:02.484875Z"
    },
    "papermill": {
     "duration": 0.050129,
     "end_time": "2021-09-13T19:57:02.485451",
     "exception": false,
     "start_time": "2021-09-13T19:57:02.435322",
     "status": "completed"
    },
    "tags": []
   }
  },
  {
   "cell_type": "markdown",
   "source": [
    "To read a full inventory of dictionaries' methods, click the \"output\" button below to read the full help page, or check out the [official online documentation](https://docs.python.org/3/library/stdtypes.html#dict)."
   ],
   "metadata": {
    "papermill": {
     "duration": 0.041116,
     "end_time": "2021-09-13T19:57:02.568134",
     "exception": false,
     "start_time": "2021-09-13T19:57:02.527018",
     "status": "completed"
    },
    "tags": []
   }
  },
  {
   "cell_type": "code",
   "execution_count": 37,
   "source": [
    "help(dict)"
   ],
   "outputs": [
    {
     "output_type": "stream",
     "name": "stdout",
     "text": [
      "Help on class dict in module builtins:\n",
      "\n",
      "class dict(object)\n",
      " |  dict() -> new empty dictionary\n",
      " |  dict(mapping) -> new dictionary initialized from a mapping object's\n",
      " |      (key, value) pairs\n",
      " |  dict(iterable) -> new dictionary initialized as if via:\n",
      " |      d = {}\n",
      " |      for k, v in iterable:\n",
      " |          d[k] = v\n",
      " |  dict(**kwargs) -> new dictionary initialized with the name=value pairs\n",
      " |      in the keyword argument list.  For example:  dict(one=1, two=2)\n",
      " |  \n",
      " |  Built-in subclasses:\n",
      " |      StgDict\n",
      " |  \n",
      " |  Methods defined here:\n",
      " |  \n",
      " |  __contains__(self, key, /)\n",
      " |      True if the dictionary has the specified key, else False.\n",
      " |  \n",
      " |  __delitem__(self, key, /)\n",
      " |      Delete self[key].\n",
      " |  \n",
      " |  __eq__(self, value, /)\n",
      " |      Return self==value.\n",
      " |  \n",
      " |  __ge__(self, value, /)\n",
      " |      Return self>=value.\n",
      " |  \n",
      " |  __getattribute__(self, name, /)\n",
      " |      Return getattr(self, name).\n",
      " |  \n",
      " |  __getitem__(...)\n",
      " |      x.__getitem__(y) <==> x[y]\n",
      " |  \n",
      " |  __gt__(self, value, /)\n",
      " |      Return self>value.\n",
      " |  \n",
      " |  __init__(self, /, *args, **kwargs)\n",
      " |      Initialize self.  See help(type(self)) for accurate signature.\n",
      " |  \n",
      " |  __iter__(self, /)\n",
      " |      Implement iter(self).\n",
      " |  \n",
      " |  __le__(self, value, /)\n",
      " |      Return self<=value.\n",
      " |  \n",
      " |  __len__(self, /)\n",
      " |      Return len(self).\n",
      " |  \n",
      " |  __lt__(self, value, /)\n",
      " |      Return self<value.\n",
      " |  \n",
      " |  __ne__(self, value, /)\n",
      " |      Return self!=value.\n",
      " |  \n",
      " |  __repr__(self, /)\n",
      " |      Return repr(self).\n",
      " |  \n",
      " |  __reversed__(self, /)\n",
      " |      Return a reverse iterator over the dict keys.\n",
      " |  \n",
      " |  __setitem__(self, key, value, /)\n",
      " |      Set self[key] to value.\n",
      " |  \n",
      " |  __sizeof__(...)\n",
      " |      D.__sizeof__() -> size of D in memory, in bytes\n",
      " |  \n",
      " |  clear(...)\n",
      " |      D.clear() -> None.  Remove all items from D.\n",
      " |  \n",
      " |  copy(...)\n",
      " |      D.copy() -> a shallow copy of D\n",
      " |  \n",
      " |  get(self, key, default=None, /)\n",
      " |      Return the value for key if key is in the dictionary, else default.\n",
      " |  \n",
      " |  items(...)\n",
      " |      D.items() -> a set-like object providing a view on D's items\n",
      " |  \n",
      " |  keys(...)\n",
      " |      D.keys() -> a set-like object providing a view on D's keys\n",
      " |  \n",
      " |  pop(...)\n",
      " |      D.pop(k[,d]) -> v, remove specified key and return the corresponding value.\n",
      " |      If key is not found, d is returned if given, otherwise KeyError is raised\n",
      " |  \n",
      " |  popitem(self, /)\n",
      " |      Remove and return a (key, value) pair as a 2-tuple.\n",
      " |      \n",
      " |      Pairs are returned in LIFO (last-in, first-out) order.\n",
      " |      Raises KeyError if the dict is empty.\n",
      " |  \n",
      " |  setdefault(self, key, default=None, /)\n",
      " |      Insert key with a value of default if key is not in the dictionary.\n",
      " |      \n",
      " |      Return the value for key if key is in the dictionary, else default.\n",
      " |  \n",
      " |  update(...)\n",
      " |      D.update([E, ]**F) -> None.  Update D from dict/iterable E and F.\n",
      " |      If E is present and has a .keys() method, then does:  for k in E: D[k] = E[k]\n",
      " |      If E is present and lacks a .keys() method, then does:  for k, v in E: D[k] = v\n",
      " |      In either case, this is followed by: for k in F:  D[k] = F[k]\n",
      " |  \n",
      " |  values(...)\n",
      " |      D.values() -> an object providing a view on D's values\n",
      " |  \n",
      " |  ----------------------------------------------------------------------\n",
      " |  Class methods defined here:\n",
      " |  \n",
      " |  fromkeys(iterable, value=None, /) from builtins.type\n",
      " |      Create a new dictionary with keys from iterable and values set to value.\n",
      " |  \n",
      " |  ----------------------------------------------------------------------\n",
      " |  Static methods defined here:\n",
      " |  \n",
      " |  __new__(*args, **kwargs) from builtins.type\n",
      " |      Create and return a new object.  See help(type) for accurate signature.\n",
      " |  \n",
      " |  ----------------------------------------------------------------------\n",
      " |  Data and other attributes defined here:\n",
      " |  \n",
      " |  __hash__ = None\n",
      "\n"
     ]
    }
   ],
   "metadata": {
    "_kg_hide-output": true,
    "collapsed": true,
    "execution": {
     "iopub.execute_input": "2021-09-13T19:57:02.664003Z",
     "iopub.status.busy": "2021-09-13T19:57:02.663418Z",
     "iopub.status.idle": "2021-09-13T19:57:02.666474Z",
     "shell.execute_reply": "2021-09-13T19:57:02.666917Z"
    },
    "papermill": {
     "duration": 0.057178,
     "end_time": "2021-09-13T19:57:02.667071",
     "exception": false,
     "start_time": "2021-09-13T19:57:02.609893",
     "status": "completed"
    },
    "tags": []
   }
  }
 ],
 "metadata": {
  "anaconda-cloud": {},
  "kernelspec": {
   "name": "python3",
   "display_name": "Python 3.8.8 64-bit ('base': conda)"
  },
  "language_info": {
   "codemirror_mode": {
    "name": "ipython",
    "version": 3
   },
   "file_extension": ".py",
   "mimetype": "text/x-python",
   "name": "python",
   "nbconvert_exporter": "python",
   "pygments_lexer": "ipython3",
   "version": "3.8.8"
  },
  "learntools_metadata": {
   "lesson_index": 5,
   "type": "tutorial"
  },
  "papermill": {
   "default_parameters": {},
   "duration": 12.675029,
   "end_time": "2021-09-13T19:57:03.302401",
   "environment_variables": {},
   "exception": null,
   "input_path": "__notebook__.ipynb",
   "output_path": "__notebook__.ipynb",
   "parameters": {},
   "start_time": "2021-09-13T19:56:50.627372",
   "version": "2.3.3"
  },
  "interpreter": {
   "hash": "6d46af94c2bbce495f1e668725902fa517c90b1782bcfe2fce0dd9868df553d3"
  }
 },
 "nbformat": 4,
 "nbformat_minor": 5
}