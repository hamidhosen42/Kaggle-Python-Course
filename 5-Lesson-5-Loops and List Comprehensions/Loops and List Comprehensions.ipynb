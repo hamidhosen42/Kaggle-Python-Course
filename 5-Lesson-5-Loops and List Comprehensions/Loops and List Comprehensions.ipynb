{
 "cells": [
  {
   "cell_type": "markdown",
   "source": [
    "# Loops\n",
    "\n",
    "Loops are a way to repeatedly execute some code. Here's an example:"
   ],
   "metadata": {
    "papermill": {
     "duration": 0.018948,
     "end_time": "2021-09-13T19:56:58.850220",
     "exception": false,
     "start_time": "2021-09-13T19:56:58.831272",
     "status": "completed"
    },
    "tags": []
   }
  },
  {
   "cell_type": "code",
   "execution_count": 1,
   "source": [
    "planets = ['Mercury', 'Venus', 'Earth', 'Mars', 'Jupiter', 'Saturn', 'Uranus', 'Neptune']\r\n",
    "for planet in planets:\r\n",
    "    print(planet, end=' ') # print all on same line"
   ],
   "outputs": [
    {
     "output_type": "stream",
     "name": "stdout",
     "text": [
      "Mercury Venus Earth Mars Jupiter Saturn Uranus Neptune "
     ]
    }
   ],
   "metadata": {
    "execution": {
     "iopub.execute_input": "2021-09-13T19:56:58.899114Z",
     "iopub.status.busy": "2021-09-13T19:56:58.898442Z",
     "iopub.status.idle": "2021-09-13T19:56:58.904731Z",
     "shell.execute_reply": "2021-09-13T19:56:58.903989Z"
    },
    "papermill": {
     "duration": 0.03555,
     "end_time": "2021-09-13T19:56:58.904895",
     "exception": false,
     "start_time": "2021-09-13T19:56:58.869345",
     "status": "completed"
    },
    "tags": []
   }
  },
  {
   "cell_type": "markdown",
   "source": [
    "The ``for`` loop specifies \n",
    "- the variable name to use (in this case, `planet`)\n",
    "- the set of values to loop over (in this case, `planets`)\n",
    "\n",
    "You use the word \"``in``\" to link them together.\n",
    "\n",
    "The object to the right of the \"``in``\" can be any object that supports iteration. Basically, if it can be thought of as a group of things, you can probably loop over it. In addition to lists, we can iterate over the elements of a tuple:"
   ],
   "metadata": {
    "papermill": {
     "duration": 0.020682,
     "end_time": "2021-09-13T19:56:58.947342",
     "exception": false,
     "start_time": "2021-09-13T19:56:58.926660",
     "status": "completed"
    },
    "tags": []
   }
  },
  {
   "cell_type": "code",
   "execution_count": 2,
   "source": [
    "multiplicands = (2, 2, 2, 3, 3, 5)\r\n",
    "product = 1\r\n",
    "for mult in multiplicands:\r\n",
    "    product = product * mult\r\n",
    "product"
   ],
   "outputs": [
    {
     "output_type": "execute_result",
     "data": {
      "text/plain": [
       "360"
      ]
     },
     "metadata": {},
     "execution_count": 2
    }
   ],
   "metadata": {
    "execution": {
     "iopub.execute_input": "2021-09-13T19:56:59.002183Z",
     "iopub.status.busy": "2021-09-13T19:56:59.001422Z",
     "iopub.status.idle": "2021-09-13T19:56:59.005138Z",
     "shell.execute_reply": "2021-09-13T19:56:59.004496Z"
    },
    "papermill": {
     "duration": 0.03341,
     "end_time": "2021-09-13T19:56:59.005296",
     "exception": false,
     "start_time": "2021-09-13T19:56:58.971886",
     "status": "completed"
    },
    "tags": []
   }
  },
  {
   "cell_type": "markdown",
   "source": [
    "You can even loop through each character in a string:"
   ],
   "metadata": {
    "papermill": {
     "duration": 0.023631,
     "end_time": "2021-09-13T19:56:59.048966",
     "exception": false,
     "start_time": "2021-09-13T19:56:59.025335",
     "status": "completed"
    },
    "tags": []
   }
  },
  {
   "cell_type": "code",
   "execution_count": 3,
   "source": [
    "s = 'steganograpHy is the practicE of conceaLing a file, message, image, or video within another fiLe, message, image, Or video.'\r\n",
    "msg = ''\r\n",
    "# print all the uppercase letters in s, one at a time\r\n",
    "for char in s:\r\n",
    "    if char.isupper():\r\n",
    "        print(char, end='')        "
   ],
   "outputs": [
    {
     "output_type": "stream",
     "name": "stdout",
     "text": [
      "HELLO"
     ]
    }
   ],
   "metadata": {
    "execution": {
     "iopub.execute_input": "2021-09-13T19:56:59.093686Z",
     "iopub.status.busy": "2021-09-13T19:56:59.092607Z",
     "iopub.status.idle": "2021-09-13T19:56:59.096534Z",
     "shell.execute_reply": "2021-09-13T19:56:59.096974Z"
    },
    "papermill": {
     "duration": 0.029044,
     "end_time": "2021-09-13T19:56:59.097171",
     "exception": false,
     "start_time": "2021-09-13T19:56:59.068127",
     "status": "completed"
    },
    "tags": []
   }
  },
  {
   "cell_type": "markdown",
   "source": [
    "### range()\n",
    "\n",
    "`range()` is a function that returns a sequence of numbers. It turns out to be very useful for writing loops.\n",
    "\n",
    "For example, if we want to repeat some action 5 times:"
   ],
   "metadata": {
    "papermill": {
     "duration": 0.020257,
     "end_time": "2021-09-13T19:56:59.137823",
     "exception": false,
     "start_time": "2021-09-13T19:56:59.117566",
     "status": "completed"
    },
    "tags": []
   }
  },
  {
   "cell_type": "code",
   "execution_count": 4,
   "source": [
    "for i in range(5):\r\n",
    "    print(\"Doing important work. i =\", i)"
   ],
   "outputs": [
    {
     "output_type": "stream",
     "name": "stdout",
     "text": [
      "Doing important work. i = 0\n",
      "Doing important work. i = 1\n",
      "Doing important work. i = 2\n",
      "Doing important work. i = 3\n",
      "Doing important work. i = 4\n"
     ]
    }
   ],
   "metadata": {
    "execution": {
     "iopub.execute_input": "2021-09-13T19:56:59.182420Z",
     "iopub.status.busy": "2021-09-13T19:56:59.181353Z",
     "iopub.status.idle": "2021-09-13T19:56:59.186579Z",
     "shell.execute_reply": "2021-09-13T19:56:59.185875Z"
    },
    "papermill": {
     "duration": 0.029478,
     "end_time": "2021-09-13T19:56:59.186729",
     "exception": false,
     "start_time": "2021-09-13T19:56:59.157251",
     "status": "completed"
    },
    "tags": []
   }
  },
  {
   "cell_type": "markdown",
   "source": [
    "## ``while`` loops\n",
    "The other type of loop in Python is a ``while`` loop, which iterates until some condition is met:"
   ],
   "metadata": {
    "papermill": {
     "duration": 0.019341,
     "end_time": "2021-09-13T19:56:59.225857",
     "exception": false,
     "start_time": "2021-09-13T19:56:59.206516",
     "status": "completed"
    },
    "tags": []
   }
  },
  {
   "cell_type": "code",
   "execution_count": 5,
   "source": [
    "i = 0\r\n",
    "while i < 10:\r\n",
    "    print(i, end=' ')\r\n",
    "    i += 1 # increase the value of i by 1"
   ],
   "outputs": [
    {
     "output_type": "stream",
     "name": "stdout",
     "text": [
      "0 1 2 3 4 5 6 7 8 9 "
     ]
    }
   ],
   "metadata": {
    "execution": {
     "iopub.execute_input": "2021-09-13T19:56:59.272387Z",
     "iopub.status.busy": "2021-09-13T19:56:59.271320Z",
     "iopub.status.idle": "2021-09-13T19:56:59.275771Z",
     "shell.execute_reply": "2021-09-13T19:56:59.275083Z"
    },
    "papermill": {
     "duration": 0.030296,
     "end_time": "2021-09-13T19:56:59.275913",
     "exception": false,
     "start_time": "2021-09-13T19:56:59.245617",
     "status": "completed"
    },
    "tags": []
   }
  },
  {
   "cell_type": "markdown",
   "source": [
    "The argument of the ``while`` loop is evaluated as a boolean statement, and the loop is executed until the statement evaluates to False."
   ],
   "metadata": {
    "papermill": {
     "duration": 0.025111,
     "end_time": "2021-09-13T19:56:59.321392",
     "exception": false,
     "start_time": "2021-09-13T19:56:59.296281",
     "status": "completed"
    },
    "tags": []
   }
  },
  {
   "cell_type": "markdown",
   "source": [
    "# List comprehensions\n",
    "\n",
    "List comprehensions are one of Python's most beloved and unique features. The easiest way to understand them is probably to just look at a few examples:"
   ],
   "metadata": {
    "papermill": {
     "duration": 0.027469,
     "end_time": "2021-09-13T19:56:59.375115",
     "exception": false,
     "start_time": "2021-09-13T19:56:59.347646",
     "status": "completed"
    },
    "tags": []
   }
  },
  {
   "cell_type": "code",
   "execution_count": 6,
   "source": [
    "squares = [n**2 for n in range(10)]\r\n",
    "squares"
   ],
   "outputs": [
    {
     "output_type": "execute_result",
     "data": {
      "text/plain": [
       "[0, 1, 4, 9, 16, 25, 36, 49, 64, 81]"
      ]
     },
     "metadata": {},
     "execution_count": 6
    }
   ],
   "metadata": {
    "execution": {
     "iopub.execute_input": "2021-09-13T19:56:59.424473Z",
     "iopub.status.busy": "2021-09-13T19:56:59.423630Z",
     "iopub.status.idle": "2021-09-13T19:56:59.426895Z",
     "shell.execute_reply": "2021-09-13T19:56:59.427385Z"
    },
    "papermill": {
     "duration": 0.032129,
     "end_time": "2021-09-13T19:56:59.427552",
     "exception": false,
     "start_time": "2021-09-13T19:56:59.395423",
     "status": "completed"
    },
    "tags": []
   }
  },
  {
   "cell_type": "markdown",
   "source": [
    "Here's how we would do the same thing without a list comprehension:"
   ],
   "metadata": {
    "papermill": {
     "duration": 0.02034,
     "end_time": "2021-09-13T19:56:59.468547",
     "exception": false,
     "start_time": "2021-09-13T19:56:59.448207",
     "status": "completed"
    },
    "tags": []
   }
  },
  {
   "cell_type": "code",
   "execution_count": 7,
   "source": [
    "squares = []\r\n",
    "for n in range(10):\r\n",
    "    squares.append(n**2)\r\n",
    "squares"
   ],
   "outputs": [
    {
     "output_type": "execute_result",
     "data": {
      "text/plain": [
       "[0, 1, 4, 9, 16, 25, 36, 49, 64, 81]"
      ]
     },
     "metadata": {},
     "execution_count": 7
    }
   ],
   "metadata": {
    "execution": {
     "iopub.execute_input": "2021-09-13T19:56:59.516303Z",
     "iopub.status.busy": "2021-09-13T19:56:59.515594Z",
     "iopub.status.idle": "2021-09-13T19:56:59.518746Z",
     "shell.execute_reply": "2021-09-13T19:56:59.518158Z"
    },
    "papermill": {
     "duration": 0.029375,
     "end_time": "2021-09-13T19:56:59.518884",
     "exception": false,
     "start_time": "2021-09-13T19:56:59.489509",
     "status": "completed"
    },
    "tags": []
   }
  },
  {
   "cell_type": "markdown",
   "source": [
    "We can also add an `if` condition:"
   ],
   "metadata": {
    "papermill": {
     "duration": 0.020717,
     "end_time": "2021-09-13T19:56:59.562047",
     "exception": false,
     "start_time": "2021-09-13T19:56:59.541330",
     "status": "completed"
    },
    "tags": []
   }
  },
  {
   "cell_type": "code",
   "execution_count": 8,
   "source": [
    "short_planets = [planet for planet in planets if len(planet) < 6]\r\n",
    "short_planets"
   ],
   "outputs": [
    {
     "output_type": "execute_result",
     "data": {
      "text/plain": [
       "['Venus', 'Earth', 'Mars']"
      ]
     },
     "metadata": {},
     "execution_count": 8
    }
   ],
   "metadata": {
    "execution": {
     "iopub.execute_input": "2021-09-13T19:56:59.610756Z",
     "iopub.status.busy": "2021-09-13T19:56:59.610068Z",
     "iopub.status.idle": "2021-09-13T19:56:59.613253Z",
     "shell.execute_reply": "2021-09-13T19:56:59.612713Z"
    },
    "papermill": {
     "duration": 0.030178,
     "end_time": "2021-09-13T19:56:59.613394",
     "exception": false,
     "start_time": "2021-09-13T19:56:59.583216",
     "status": "completed"
    },
    "tags": []
   }
  },
  {
   "cell_type": "markdown",
   "source": [
    "(If you're familiar with SQL, you might think of this as being like a \"WHERE\" clause)\n",
    "\n",
    "Here's an example of filtering with an `if` condition *and* applying some transformation to the loop variable:"
   ],
   "metadata": {
    "papermill": {
     "duration": 0.021408,
     "end_time": "2021-09-13T19:56:59.656896",
     "exception": false,
     "start_time": "2021-09-13T19:56:59.635488",
     "status": "completed"
    },
    "tags": []
   }
  },
  {
   "cell_type": "code",
   "execution_count": 9,
   "source": [
    "# str.upper() returns an all-caps version of a string\r\n",
    "loud_short_planets = [planet.upper() + '!' for planet in planets if len(planet) < 6]\r\n",
    "loud_short_planets"
   ],
   "outputs": [
    {
     "output_type": "execute_result",
     "data": {
      "text/plain": [
       "['VENUS!', 'EARTH!', 'MARS!']"
      ]
     },
     "metadata": {},
     "execution_count": 9
    }
   ],
   "metadata": {
    "execution": {
     "iopub.execute_input": "2021-09-13T19:56:59.704387Z",
     "iopub.status.busy": "2021-09-13T19:56:59.703647Z",
     "iopub.status.idle": "2021-09-13T19:56:59.709135Z",
     "shell.execute_reply": "2021-09-13T19:56:59.709750Z"
    },
    "papermill": {
     "duration": 0.031357,
     "end_time": "2021-09-13T19:56:59.709923",
     "exception": false,
     "start_time": "2021-09-13T19:56:59.678566",
     "status": "completed"
    },
    "tags": []
   }
  },
  {
   "cell_type": "markdown",
   "source": [
    "People usually write these on a single line, but you might find the structure clearer when it's split up over 3 lines:"
   ],
   "metadata": {
    "papermill": {
     "duration": 0.022001,
     "end_time": "2021-09-13T19:56:59.754182",
     "exception": false,
     "start_time": "2021-09-13T19:56:59.732181",
     "status": "completed"
    },
    "tags": []
   }
  },
  {
   "cell_type": "code",
   "execution_count": 10,
   "source": [
    "[\r\n",
    "    planet.upper() + '!' \r\n",
    "    for planet in planets \r\n",
    "    if len(planet) < 6\r\n",
    "]"
   ],
   "outputs": [
    {
     "output_type": "execute_result",
     "data": {
      "text/plain": [
       "['VENUS!', 'EARTH!', 'MARS!']"
      ]
     },
     "metadata": {},
     "execution_count": 10
    }
   ],
   "metadata": {
    "execution": {
     "iopub.execute_input": "2021-09-13T19:56:59.802191Z",
     "iopub.status.busy": "2021-09-13T19:56:59.801504Z",
     "iopub.status.idle": "2021-09-13T19:56:59.808196Z",
     "shell.execute_reply": "2021-09-13T19:56:59.807609Z"
    },
    "papermill": {
     "duration": 0.031762,
     "end_time": "2021-09-13T19:56:59.808342",
     "exception": false,
     "start_time": "2021-09-13T19:56:59.776580",
     "status": "completed"
    },
    "tags": []
   }
  },
  {
   "cell_type": "markdown",
   "source": [
    "(Continuing the SQL analogy, you could think of these three lines as SELECT, FROM, and WHERE)\n",
    "\n",
    "The expression on the left doesn't technically have to involve the loop variable (though it'd be pretty unusual for it not to). What do you think the expression below will evaluate to? Press the 'output' button to check. "
   ],
   "metadata": {
    "papermill": {
     "duration": 0.022524,
     "end_time": "2021-09-13T19:56:59.854151",
     "exception": false,
     "start_time": "2021-09-13T19:56:59.831627",
     "status": "completed"
    },
    "tags": []
   }
  },
  {
   "cell_type": "code",
   "execution_count": 11,
   "source": [
    "[32 for planet in planets]"
   ],
   "outputs": [
    {
     "output_type": "execute_result",
     "data": {
      "text/plain": [
       "[32, 32, 32, 32, 32, 32, 32, 32]"
      ]
     },
     "metadata": {},
     "execution_count": 11
    }
   ],
   "metadata": {
    "_kg_hide-output": true,
    "execution": {
     "iopub.execute_input": "2021-09-13T19:56:59.905988Z",
     "iopub.status.busy": "2021-09-13T19:56:59.905345Z",
     "iopub.status.idle": "2021-09-13T19:56:59.909192Z",
     "shell.execute_reply": "2021-09-13T19:56:59.908593Z"
    },
    "papermill": {
     "duration": 0.032386,
     "end_time": "2021-09-13T19:56:59.909339",
     "exception": false,
     "start_time": "2021-09-13T19:56:59.876953",
     "status": "completed"
    },
    "tags": []
   }
  },
  {
   "cell_type": "markdown",
   "source": [
    "List comprehensions combined with functions like `min`, `max`, and `sum` can lead to impressive one-line solutions for problems that would otherwise require several lines of code. \n",
    "\n",
    "For example, compare the following two cells of code that do the same thing.\n"
   ],
   "metadata": {
    "papermill": {
     "duration": 0.023622,
     "end_time": "2021-09-13T19:56:59.956487",
     "exception": false,
     "start_time": "2021-09-13T19:56:59.932865",
     "status": "completed"
    },
    "tags": []
   }
  },
  {
   "cell_type": "code",
   "execution_count": 12,
   "source": [
    "def count_negatives(nums):\r\n",
    "    \"\"\"Return the number of negative numbers in the given list.\r\n",
    "    \r\n",
    "    >>> count_negatives([5, -1, -2, 0, 3])\r\n",
    "    2\r\n",
    "    \"\"\"\r\n",
    "    n_negative = 0\r\n",
    "    for num in nums:\r\n",
    "        if num < 0:\r\n",
    "            n_negative = n_negative + 1\r\n",
    "    return n_negative"
   ],
   "outputs": [],
   "metadata": {
    "collapsed": true,
    "execution": {
     "iopub.execute_input": "2021-09-13T19:57:00.008644Z",
     "iopub.status.busy": "2021-09-13T19:57:00.007932Z",
     "iopub.status.idle": "2021-09-13T19:57:00.011224Z",
     "shell.execute_reply": "2021-09-13T19:57:00.010520Z"
    },
    "papermill": {
     "duration": 0.031832,
     "end_time": "2021-09-13T19:57:00.011377",
     "exception": false,
     "start_time": "2021-09-13T19:56:59.979545",
     "status": "completed"
    },
    "tags": []
   }
  },
  {
   "cell_type": "markdown",
   "source": [
    "Here's a solution using a list comprehension:"
   ],
   "metadata": {
    "papermill": {
     "duration": 0.022936,
     "end_time": "2021-09-13T19:57:00.058406",
     "exception": false,
     "start_time": "2021-09-13T19:57:00.035470",
     "status": "completed"
    },
    "tags": []
   }
  },
  {
   "cell_type": "code",
   "execution_count": 13,
   "source": [
    "def count_negatives(nums):\r\n",
    "    return len([num for num in nums if num < 0])"
   ],
   "outputs": [],
   "metadata": {
    "collapsed": true,
    "execution": {
     "iopub.execute_input": "2021-09-13T19:57:00.110449Z",
     "iopub.status.busy": "2021-09-13T19:57:00.109742Z",
     "iopub.status.idle": "2021-09-13T19:57:00.112348Z",
     "shell.execute_reply": "2021-09-13T19:57:00.111803Z"
    },
    "papermill": {
     "duration": 0.030759,
     "end_time": "2021-09-13T19:57:00.112495",
     "exception": false,
     "start_time": "2021-09-13T19:57:00.081736",
     "status": "completed"
    },
    "tags": []
   }
  },
  {
   "cell_type": "markdown",
   "source": [
    "Much better, right?\n",
    "\n",
    "Well if all we care about is minimizing the length of our code, this third solution is better still!"
   ],
   "metadata": {
    "papermill": {
     "duration": 0.022742,
     "end_time": "2021-09-13T19:57:00.158292",
     "exception": false,
     "start_time": "2021-09-13T19:57:00.135550",
     "status": "completed"
    },
    "tags": []
   }
  },
  {
   "cell_type": "code",
   "execution_count": 14,
   "source": [
    "def count_negatives(nums):\r\n",
    "    # Reminder: in the \"booleans and conditionals\" exercises, we learned about a quirk of \r\n",
    "    # Python where it calculates something like True + True + False + True to be equal to 3.\r\n",
    "    return sum([num < 0 for num in nums])"
   ],
   "outputs": [],
   "metadata": {
    "collapsed": true,
    "execution": {
     "iopub.execute_input": "2021-09-13T19:57:00.210228Z",
     "iopub.status.busy": "2021-09-13T19:57:00.209459Z",
     "iopub.status.idle": "2021-09-13T19:57:00.212483Z",
     "shell.execute_reply": "2021-09-13T19:57:00.211789Z"
    },
    "papermill": {
     "duration": 0.031324,
     "end_time": "2021-09-13T19:57:00.212634",
     "exception": false,
     "start_time": "2021-09-13T19:57:00.181310",
     "status": "completed"
    },
    "tags": []
   }
  },
  {
   "cell_type": "markdown",
   "source": [
    "Which of these solutions is the \"best\" is entirely subjective. Solving a problem with less code is always nice, but it's worth keeping in mind the following lines from [The Zen of Python](https://en.wikipedia.org/wiki/Zen_of_Python):\n",
    "\n",
    "> Readability counts.  \n",
    "> Explicit is better than implicit.\n",
    "\n",
    "So, use these tools to make compact readable programs. But when you have to choose, favor code that is easy for others to understand."
   ],
   "metadata": {
    "papermill": {
     "duration": 0.023277,
     "end_time": "2021-09-13T19:57:00.259673",
     "exception": false,
     "start_time": "2021-09-13T19:57:00.236396",
     "status": "completed"
    },
    "tags": []
   }
  }
 ],
 "metadata": {
  "anaconda-cloud": {},
  "kernelspec": {
   "name": "python3",
   "display_name": "Python 3.8.8 64-bit ('base': conda)"
  },
  "language_info": {
   "codemirror_mode": {
    "name": "ipython",
    "version": 3
   },
   "file_extension": ".py",
   "mimetype": "text/x-python",
   "name": "python",
   "nbconvert_exporter": "python",
   "pygments_lexer": "ipython3",
   "version": "3.8.8"
  },
  "learntools_metadata": {
   "lesson_index": 4,
   "type": "tutorial"
  },
  "papermill": {
   "default_parameters": {},
   "duration": 10.483638,
   "end_time": "2021-09-13T19:57:00.940457",
   "environment_variables": {},
   "exception": null,
   "input_path": "__notebook__.ipynb",
   "output_path": "__notebook__.ipynb",
   "parameters": {},
   "start_time": "2021-09-13T19:56:50.456819",
   "version": "2.3.3"
  },
  "interpreter": {
   "hash": "6d46af94c2bbce495f1e668725902fa517c90b1782bcfe2fce0dd9868df553d3"
  }
 },
 "nbformat": 4,
 "nbformat_minor": 5
}